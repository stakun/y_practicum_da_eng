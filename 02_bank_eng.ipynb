{
 "cells": [
  {
   "cell_type": "markdown",
   "id": "f456afe0",
   "metadata": {},
   "source": [
    "# Borrower Reliability Investigation\n",
    "\n",
    "Project aims to investigate how a client's marital status and the number of children affects their timely loan repayment, with the goal of developing a credit scoring model.\n",
    "\n",
    "**Project status:** ✅сompleted, reviewed.\n",
    "\n",
    "**Stack:** `python`, `pandas`.\n",
    "\n",
    "**Skills:**\n",
    "* data preprocessing\n",
    "* pivot tables\n",
    "\n",
    "**Project Features:**\n",
    "* The data presented significant noise, distortions, missing values and duplicates (both explicit and implicit) — necessity data preprocessing has been done.\n",
    "* The data was redundant, requiring the creation of reference tables — education level and family status.\n",
    "* During the study, the income level quantitative variable required categorization and the grouping of credit purpose categories.\n",
    "* To answer research questions, pivot tables were used.\n",
    "\n",
    "**Applying Project Results:**\n",
    "* Development of a credit scoring model.\n",
    "\n",
    "**Keywords:** `data preprocessing`, `duplicates`, `missing values`, `categorization`, `decomposition`, `pivot table`."
   ]
  },
  {
   "cell_type": "markdown",
   "id": "27f2e5bd",
   "metadata": {
    "toc": true
   },
   "source": [
    "<h1>Table of Contents<span class=\"tocSkip\"></span></h1>\n",
    "<div class=\"toc\"><ul class=\"toc-item\"><li><span><a href=\"#Project-Overview\" data-toc-modified-id=\"Project-Overview-1\"><span class=\"toc-item-num\">1&nbsp;&nbsp;</span>Project Overview</a></span><ul class=\"toc-item\"><li><span><a href=\"#Formulation-of-the-problem\" data-toc-modified-id=\"Formulation-of-the-problem-1.1\"><span class=\"toc-item-num\">1.1&nbsp;&nbsp;</span>Formulation of the problem</a></span></li><li><span><a href=\"#Project-Summary\" data-toc-modified-id=\"Project-Summary-1.2\"><span class=\"toc-item-num\">1.2&nbsp;&nbsp;</span>Project Summary</a></span></li><li><span><a href=\"#Project-Outline\" data-toc-modified-id=\"Project-Outline-1.3\"><span class=\"toc-item-num\">1.3&nbsp;&nbsp;</span>Project Outline</a></span></li></ul></li><li><span><a href=\"#Part-1\" data-toc-modified-id=\"Part-1-2\"><span class=\"toc-item-num\">2&nbsp;&nbsp;</span>Part 1</a></span><ul class=\"toc-item\"><li><span><a href=\"#Step-1.-Opening-the-Table-and-Reviewing-General-Data-Information\" data-toc-modified-id=\"Step-1.-Opening-the-Table-and-Reviewing-General-Data-Information-2.1\"><span class=\"toc-item-num\">2.1&nbsp;&nbsp;</span>Step 1. Opening the Table and Reviewing General Data Information</a></span><ul class=\"toc-item\"><li><span><a href=\"#Task-1.-Import-the-pandas-library.-Read-the-data-from-the-.csv-file-into-a-dataframe-and-save-it-in-the-'data'-variable\" data-toc-modified-id=\"Task-1.-Import-the-pandas-library.-Read-the-data-from-the-.csv-file-into-a-dataframe-and-save-it-in-the-'data'-variable-2.1.1\"><span class=\"toc-item-num\">2.1.1&nbsp;&nbsp;</span>Task 1. Import the pandas library. Read the data from the .csv file into a dataframe and save it in the <code>'data'</code> variable</a></span></li><li><span><a href=\"#Task-2.-Display-the-first-20-rows-of-the-'data'-dataframe\" data-toc-modified-id=\"Task-2.-Display-the-first-20-rows-of-the-'data'-dataframe-2.1.2\"><span class=\"toc-item-num\">2.1.2&nbsp;&nbsp;</span>Task 2. Display the first 20 rows of the <code>'data'</code> dataframe</a></span></li><li><span><a href=\"#Task-3.-Display-the-basic-information-about-the-dataframe-using-the-info()-method\" data-toc-modified-id=\"Task-3.-Display-the-basic-information-about-the-dataframe-using-the-info()-method-2.1.3\"><span class=\"toc-item-num\">2.1.3&nbsp;&nbsp;</span>Task 3. Display the basic information about the dataframe using the <code>info()</code> method</a></span></li></ul></li><li><span><a href=\"#Step-2.-Data-Preprocessing\" data-toc-modified-id=\"Step-2.-Data-Preprocessing-2.2\"><span class=\"toc-item-num\">2.2&nbsp;&nbsp;</span>Step 2. Data Preprocessing</a></span><ul class=\"toc-item\"><li><span><a href=\"#Task-4.-Display-the-number-of-missing-values-for-each-column-using-a-combination-of-two-methods\" data-toc-modified-id=\"Task-4.-Display-the-number-of-missing-values-for-each-column-using-a-combination-of-two-methods-2.2.1\"><span class=\"toc-item-num\">2.2.1&nbsp;&nbsp;</span>Task 4. Display the number of missing values for each column using a combination of two methods</a></span></li><li><span><a href=\"#Task-5.-Filling-missing-values-in-the-total_income-column-with-median-values\" data-toc-modified-id=\"Task-5.-Filling-missing-values-in-the-total_income-column-with-median-values-2.2.2\"><span class=\"toc-item-num\">2.2.2&nbsp;&nbsp;</span>Task 5. Filling missing values in the <code>total_income</code> column with median values</a></span></li><li><span><a href=\"#Task-6.-Handling-anomalies-in-the-days_employed-column\" data-toc-modified-id=\"Task-6.-Handling-anomalies-in-the-days_employed-column-2.2.3\"><span class=\"toc-item-num\">2.2.3&nbsp;&nbsp;</span>Task 6. Handling anomalies in the <code>days_employed</code> column</a></span></li><li><span><a href=\"#Task-7.-For-each-income-type,-display-the-median-value-of-days-employed-in-the-days_employed-column\" data-toc-modified-id=\"Task-7.-For-each-income-type,-display-the-median-value-of-days-employed-in-the-days_employed-column-2.2.4\"><span class=\"toc-item-num\">2.2.4&nbsp;&nbsp;</span>Task 7. For each income type, display the median value of days employed in the <code>days_employed</code> column</a></span></li><li><span><a href=\"#Task-8.-Display-the-list-of-unique-values-in-the-children-column\" data-toc-modified-id=\"Task-8.-Display-the-list-of-unique-values-in-the-children-column-2.2.5\"><span class=\"toc-item-num\">2.2.5&nbsp;&nbsp;</span>Task 8. Display the list of unique values in the <code>children</code> column</a></span></li><li><span><a href=\"#Task-9.-Handling-anomalies-in-the-children-column\" data-toc-modified-id=\"Task-9.-Handling-anomalies-in-the-children-column-2.2.6\"><span class=\"toc-item-num\">2.2.6&nbsp;&nbsp;</span>Task 9. Handling anomalies in the <code>children</code> column</a></span></li><li><span><a href=\"#Task-10.-Display-the-list-of-unique-values-in-the-fixed-children-column\" data-toc-modified-id=\"Task-10.-Display-the-list-of-unique-values-in-the-fixed-children-column-2.2.7\"><span class=\"toc-item-num\">2.2.7&nbsp;&nbsp;</span>Task 10. Display the list of unique values in the fixed <code>children</code> column</a></span></li><li><span><a href=\"#Task-11.-Fill-in-the-missing-values-in-the-days_employed-column-with-median-values-for-each-income_type-category\" data-toc-modified-id=\"Task-11.-Fill-in-the-missing-values-in-the-days_employed-column-with-median-values-for-each-income_type-category-2.2.8\"><span class=\"toc-item-num\">2.2.8&nbsp;&nbsp;</span>Task 11. Fill in the missing values in the <code>days_employed</code> column with median values for each <code>income_type</code> category</a></span></li><li><span><a href=\"#Task-12.-Ensure-that-all-missing-values-are-filled\" data-toc-modified-id=\"Task-12.-Ensure-that-all-missing-values-are-filled-2.2.9\"><span class=\"toc-item-num\">2.2.9&nbsp;&nbsp;</span>Task 12. Ensure that all missing values are filled</a></span></li><li><span><a href=\"#Task-13.-Convert-the-data-type-in-the-total_income-column-from-floating-point-to-integer-using-the-astype()-method\" data-toc-modified-id=\"Task-13.-Convert-the-data-type-in-the-total_income-column-from-floating-point-to-integer-using-the-astype()-method-2.2.10\"><span class=\"toc-item-num\">2.2.10&nbsp;&nbsp;</span>Task 13. Convert the data type in the <code>total_income</code> column from floating-point to integer using the <code>astype()</code> method</a></span></li><li><span><a href=\"#Task-14.-Process-implicit-duplicates-in-the-education-column\" data-toc-modified-id=\"Task-14.-Process-implicit-duplicates-in-the-education-column-2.2.11\"><span class=\"toc-item-num\">2.2.11&nbsp;&nbsp;</span>Task 14. Process implicit duplicates in the <code>education</code> column</a></span></li><li><span><a href=\"#Task-15.-Display-the-number-of-duplicate-rows-in-the-data.-If-such-rows-are-present,-remove-them.\" data-toc-modified-id=\"Task-15.-Display-the-number-of-duplicate-rows-in-the-data.-If-such-rows-are-present,-remove-them.-2.2.12\"><span class=\"toc-item-num\">2.2.12&nbsp;&nbsp;</span>Task 15. Display the number of duplicate rows in the data. If such rows are present, remove them.</a></span></li><li><span><a href=\"#Task-16.-Categorization-of-data-by-the-total_income-column\" data-toc-modified-id=\"Task-16.-Categorization-of-data-by-the-total_income-column-2.2.13\"><span class=\"toc-item-num\">2.2.13&nbsp;&nbsp;</span>Task 16. Categorization of data by the <code>total_income</code> column</a></span></li><li><span><a href=\"#Task-17.-Display-the-list-of-unique-loan-purposes-from-the-purpose-column\" data-toc-modified-id=\"Task-17.-Display-the-list-of-unique-loan-purposes-from-the-purpose-column-2.2.14\"><span class=\"toc-item-num\">2.2.14&nbsp;&nbsp;</span>Task 17. Display the list of unique loan purposes from the <code>purpose</code> column</a></span></li><li><span><a href=\"#Task-18.-Categorization-of-data-by-the-purpose-column\" data-toc-modified-id=\"Task-18.-Categorization-of-data-by-the-purpose-column-2.2.15\"><span class=\"toc-item-num\">2.2.15&nbsp;&nbsp;</span>Task 18. Categorization of data by the <code>purpose</code> column</a></span></li></ul></li></ul></li><li><span><a href=\"#Part-2\" data-toc-modified-id=\"Part-2-3\"><span class=\"toc-item-num\">3&nbsp;&nbsp;</span>Part 2</a></span><ul class=\"toc-item\"><li><span><a href=\"#Step-3.-Data-Exploration-and-Answering-to-the-Questions\" data-toc-modified-id=\"Step-3.-Data-Exploration-and-Answering-to-the-Questions-3.1\"><span class=\"toc-item-num\">3.1&nbsp;&nbsp;</span>Step 3. Data Exploration and Answering to the Questions</a></span><ul class=\"toc-item\"><li><span><a href=\"#Task-19.-Is-there-a-correlation-between-the-number-of-children-and-timely-loan-repayment?\" data-toc-modified-id=\"Task-19.-Is-there-a-correlation-between-the-number-of-children-and-timely-loan-repayment?-3.1.1\"><span class=\"toc-item-num\">3.1.1&nbsp;&nbsp;</span>Task 19. Is there a correlation between the number of children and timely loan repayment?</a></span></li><li><span><a href=\"#Task-20.-Is-there-a-correlation-between-marital-status-and-timely-loan-repayment?\" data-toc-modified-id=\"Task-20.-Is-there-a-correlation-between-marital-status-and-timely-loan-repayment?-3.1.2\"><span class=\"toc-item-num\">3.1.2&nbsp;&nbsp;</span>Task 20. Is there a correlation between marital status and timely loan repayment?</a></span></li><li><span><a href=\"#Task-21.-Is-there-a-correlation-between-income-level-and-timely-loan-repayment?\" data-toc-modified-id=\"Task-21.-Is-there-a-correlation-between-income-level-and-timely-loan-repayment?-3.1.3\"><span class=\"toc-item-num\">3.1.3&nbsp;&nbsp;</span>Task 21. Is there a correlation between income level and timely loan repayment?</a></span></li><li><span><a href=\"#Task-22.-How-do-different-loan-purposes-affect-their-repayment-on-time?\" data-toc-modified-id=\"Task-22.-How-do-different-loan-purposes-affect-their-repayment-on-time?-3.1.4\"><span class=\"toc-item-num\">3.1.4&nbsp;&nbsp;</span>Task 22. How do different loan purposes affect their repayment on time?</a></span></li><li><span><a href=\"#Task-23.-Provide-possible-reasons-for-the-presence-of-missing-values-in-the-original-data\" data-toc-modified-id=\"Task-23.-Provide-possible-reasons-for-the-presence-of-missing-values-in-the-original-data-3.1.5\"><span class=\"toc-item-num\">3.1.5&nbsp;&nbsp;</span>Task 23. Provide possible reasons for the presence of missing values in the original data</a></span></li><li><span><a href=\"#Task-24.-Explain-why-filling-missing-values-with-the-median-is-the-best-solution-for-quantitative-variables.\" data-toc-modified-id=\"Task-24.-Explain-why-filling-missing-values-with-the-median-is-the-best-solution-for-quantitative-variables.-3.1.6\"><span class=\"toc-item-num\">3.1.6&nbsp;&nbsp;</span>Task 24. Explain why filling missing values with the median is the best solution for quantitative variables.</a></span></li></ul></li><li><span><a href=\"#Step-4.-Conclusion\" data-toc-modified-id=\"Step-4.-Conclusion-3.2\"><span class=\"toc-item-num\">3.2&nbsp;&nbsp;</span>Step 4. Conclusion</a></span></li></ul></li><li><span><a href=\"#Project-Completion-Checklist\" data-toc-modified-id=\"Project-Completion-Checklist-4\"><span class=\"toc-item-num\">4&nbsp;&nbsp;</span>Project Completion Checklist</a></span></li></ul></div>"
   ]
  },
  {
   "cell_type": "markdown",
   "id": "1e6ccdf4",
   "metadata": {},
   "source": [
    "## Project Overview\n",
    "\n",
    "### Formulation of the problem\n",
    "\n",
    "The client is the bank's credit department. The objective is to investigate whether a client's marital status and the number of children impact their ability to repay loans on time. The research findings will be used in the development of a credit scoring model, a specialized system that assesses the potential borrower's ability to repay the bank's loans.  \n",
    "\n",
    "**The goal of this project** was to answer four questions:\n",
    "1. Is there a correlation between the number of children and timely loan repayment?\n",
    "1. Is there a correlation between marital status and timely loan repayment?\n",
    "1. Is there a correlation between income level and timely loan repayment?\n",
    "1. How do different loan purposes affect their repayment on time?\n",
    "\n",
    "**The research objectives** were as follows:\n",
    "\n",
    "1. To identify and handle missing data  \n",
    "1. To validate and, if necessary, adjust data types to match the stored information\n",
    "1. To identify and, where possible, rectify data anomalies\n",
    "1. To categorize the data\n",
    "1. To remove duplicates\n",
    "1. To verify the proposed hypotheses\n",
    "\n",
    "**The data set used for this analysis** provided by the bank as `data.csv` file includes statistics on client's creditworthiness.\n",
    "\n",
    "Data description:\n",
    "\n",
    "- `children` — the number of children in the family\n",
    "- `days_employed` — total employment duration in days\n",
    "- `dob_years` — client's age in years\n",
    "- `education` — client's education level\n",
    "- `education_id` — education level identifier\n",
    "- `family_status` — family status\n",
    "- `family_status_id` — family status identifier\n",
    "- `gender` — client's gender\n",
    "- `income_type` — type of employment\n",
    "- `debt` — whether the client had a loan repayment default\n",
    "- `total_income` — monthly income\n",
    "- `purpose` — the purpose of obtaining a loan\n",
    "\n",
    "### Project Summary\n",
    "\n",
    "During the research, the following activities were carried out:\n",
    "- Data preprocessing, including finding and filling in missing values, investigating and correcting data anomalies, data type conversion, and removal of explicit and implicit duplicates.\n",
    "- Through the use of pivot tables, the research questions were investigated, and answers were obtained.\n",
    "\n",
    "Based on the results of the research, the following conclusions were made:\n",
    "- The non-return rate (the ratio of clients with defaults to those without debt on the loan) increases as the number of children in the family grows.\n",
    "- The delinquency rate (the ratio of clients with defaults to those without debt on the loan) is higher among single individuals and those in civil marriages.\n",
    "- The highest non-return rate is among the group `'E'` with incomes up to 30,000 rubles and the group `'C'` with income levels from 50,001 to 200,000 rubles. This is likely due to the larger number of borrowers in these groups.\n",
    "- The greatest risk of delinquency on loans is associated with real estate and auto loans.\n",
    "\n",
    "These findings will contribute to improving the bank's credit scoring model and making more informed lending decisions.\n",
    "\n",
    "### Project Outline\n",
    "\n",
    "This project consists of two parts. The [first part](#Part-1) was completed and automatically checked in the Jupyter notebook environment on the Yandex Practicum platform, and the [second part](#Part-2) was reviewed by a reviewer. In total, 24 tasks formulated by the course authors have been completed within the project.\n",
    "\n",
    "In the [first step](#Step-1.-Opening-the-Table-and-Reviewing-General-Data-Information) of the project (tasks 1-3), the `pandas` library was imported, the raw data was loaded from the `data.csv` file using a `try-except` error handler, and an initial data overview was performed using the  `.head()` and `.info()` methods.\n",
    "\n",
    "The [second step](#Step-2.-Data-Preprocessing) of the project (tasks 4-18) is the main focus of the presented work and is dedicated to data preprocessing. It was determined that the original data:\n",
    "- Contained 10.1% missing values of the total data volume in the columns `days_employed` and `total_income`.\n",
    "- Had implicit duplicates in the `education` and `purpose` columns.\n",
    "- Had a floating-point format in the `total_income` column instead of an integer format.\n",
    "- Had 71 duplicate rows (0.3317% of the total data volume).\n",
    "\n",
    "To process the data, the following methods were used: `fillna()`, `transform()`, `apply()`, `isna().sum()`, `astype()`, `str.lower()`, `duplicated().sum()`, and `drop_duplicates()`.\n",
    "\n",
    "Furthermore, using the created functions, the original data was categorized based on two criteria: total income and loan purpose.\n",
    "\n",
    "In the [third step](#Step-3.-Data-Exploration-and-Answers-to-the-Questions) of the project (tasks 19-24), we conducted data analysis using pivot tables to answer our primary research questions. We also made assumptions regarding the reasons behind missing data and provided justification for why filling these gaps with median values is the optimal solution.\n",
    "\n",
    "The [fourth and final stage](#Step-4.-Conclusion) of the project consists of concluding remarks based on the research findings."
   ]
  },
  {
   "cell_type": "markdown",
   "id": "4c5ff6fb",
   "metadata": {},
   "source": [
    "[Top of this section](#Project-Overview) | [Project Contents](#Table-of-Contents)"
   ]
  },
  {
   "cell_type": "markdown",
   "id": "97145c69",
   "metadata": {},
   "source": [
    "## Part 1\n",
    "\n",
    "### Step 1. Opening the Table and Reviewing General Data Information\n",
    "\n",
    "#### Task 1. Import the pandas library. Read the data from the .csv file into a dataframe and save it in the `'data'` variable"
   ]
  },
  {
   "cell_type": "code",
   "execution_count": 1,
   "id": "a536e28d",
   "metadata": {},
   "outputs": [],
   "source": [
    "# Import the pandas library as 'pd'\n",
    "import pandas as pd\n",
    "\n",
    "# Read the CSV file into the 'data' dataframe using try-except error handler\n",
    "try:\n",
    "    # Local address\n",
    "    data = pd.read_csv('datasets/data.csv')\n",
    "    \n",
    "except:\n",
    "    # Address in the Yandex Practicum Environment\n",
    "    data = pd.read_csv('…/data.csv')"
   ]
  },
  {
   "cell_type": "markdown",
   "id": "e57e83ac",
   "metadata": {},
   "source": [
    "#### Task 2. Display the first 20 rows of the `'data'` dataframe"
   ]
  },
  {
   "cell_type": "code",
   "execution_count": 2,
   "id": "b4d8930c",
   "metadata": {},
   "outputs": [
    {
     "data": {
      "text/html": [
       "<div>\n",
       "<style scoped>\n",
       "    .dataframe tbody tr th:only-of-type {\n",
       "        vertical-align: middle;\n",
       "    }\n",
       "\n",
       "    .dataframe tbody tr th {\n",
       "        vertical-align: top;\n",
       "    }\n",
       "\n",
       "    .dataframe thead th {\n",
       "        text-align: right;\n",
       "    }\n",
       "</style>\n",
       "<table border=\"1\" class=\"dataframe\">\n",
       "  <thead>\n",
       "    <tr style=\"text-align: right;\">\n",
       "      <th></th>\n",
       "      <th>children</th>\n",
       "      <th>days_employed</th>\n",
       "      <th>dob_years</th>\n",
       "      <th>education</th>\n",
       "      <th>education_id</th>\n",
       "      <th>family_status</th>\n",
       "      <th>family_status_id</th>\n",
       "      <th>gender</th>\n",
       "      <th>income_type</th>\n",
       "      <th>debt</th>\n",
       "      <th>total_income</th>\n",
       "      <th>purpose</th>\n",
       "    </tr>\n",
       "  </thead>\n",
       "  <tbody>\n",
       "    <tr>\n",
       "      <th>0</th>\n",
       "      <td>1</td>\n",
       "      <td>-8437.673028</td>\n",
       "      <td>42</td>\n",
       "      <td>высшее</td>\n",
       "      <td>0</td>\n",
       "      <td>женат / замужем</td>\n",
       "      <td>0</td>\n",
       "      <td>F</td>\n",
       "      <td>сотрудник</td>\n",
       "      <td>0</td>\n",
       "      <td>253875.639453</td>\n",
       "      <td>покупка жилья</td>\n",
       "    </tr>\n",
       "    <tr>\n",
       "      <th>1</th>\n",
       "      <td>1</td>\n",
       "      <td>-4024.803754</td>\n",
       "      <td>36</td>\n",
       "      <td>среднее</td>\n",
       "      <td>1</td>\n",
       "      <td>женат / замужем</td>\n",
       "      <td>0</td>\n",
       "      <td>F</td>\n",
       "      <td>сотрудник</td>\n",
       "      <td>0</td>\n",
       "      <td>112080.014102</td>\n",
       "      <td>приобретение автомобиля</td>\n",
       "    </tr>\n",
       "    <tr>\n",
       "      <th>2</th>\n",
       "      <td>0</td>\n",
       "      <td>-5623.422610</td>\n",
       "      <td>33</td>\n",
       "      <td>Среднее</td>\n",
       "      <td>1</td>\n",
       "      <td>женат / замужем</td>\n",
       "      <td>0</td>\n",
       "      <td>M</td>\n",
       "      <td>сотрудник</td>\n",
       "      <td>0</td>\n",
       "      <td>145885.952297</td>\n",
       "      <td>покупка жилья</td>\n",
       "    </tr>\n",
       "    <tr>\n",
       "      <th>3</th>\n",
       "      <td>3</td>\n",
       "      <td>-4124.747207</td>\n",
       "      <td>32</td>\n",
       "      <td>среднее</td>\n",
       "      <td>1</td>\n",
       "      <td>женат / замужем</td>\n",
       "      <td>0</td>\n",
       "      <td>M</td>\n",
       "      <td>сотрудник</td>\n",
       "      <td>0</td>\n",
       "      <td>267628.550329</td>\n",
       "      <td>дополнительное образование</td>\n",
       "    </tr>\n",
       "    <tr>\n",
       "      <th>4</th>\n",
       "      <td>0</td>\n",
       "      <td>340266.072047</td>\n",
       "      <td>53</td>\n",
       "      <td>среднее</td>\n",
       "      <td>1</td>\n",
       "      <td>гражданский брак</td>\n",
       "      <td>1</td>\n",
       "      <td>F</td>\n",
       "      <td>пенсионер</td>\n",
       "      <td>0</td>\n",
       "      <td>158616.077870</td>\n",
       "      <td>сыграть свадьбу</td>\n",
       "    </tr>\n",
       "    <tr>\n",
       "      <th>5</th>\n",
       "      <td>0</td>\n",
       "      <td>-926.185831</td>\n",
       "      <td>27</td>\n",
       "      <td>высшее</td>\n",
       "      <td>0</td>\n",
       "      <td>гражданский брак</td>\n",
       "      <td>1</td>\n",
       "      <td>M</td>\n",
       "      <td>компаньон</td>\n",
       "      <td>0</td>\n",
       "      <td>255763.565419</td>\n",
       "      <td>покупка жилья</td>\n",
       "    </tr>\n",
       "    <tr>\n",
       "      <th>6</th>\n",
       "      <td>0</td>\n",
       "      <td>-2879.202052</td>\n",
       "      <td>43</td>\n",
       "      <td>высшее</td>\n",
       "      <td>0</td>\n",
       "      <td>женат / замужем</td>\n",
       "      <td>0</td>\n",
       "      <td>F</td>\n",
       "      <td>компаньон</td>\n",
       "      <td>0</td>\n",
       "      <td>240525.971920</td>\n",
       "      <td>операции с жильем</td>\n",
       "    </tr>\n",
       "    <tr>\n",
       "      <th>7</th>\n",
       "      <td>0</td>\n",
       "      <td>-152.779569</td>\n",
       "      <td>50</td>\n",
       "      <td>СРЕДНЕЕ</td>\n",
       "      <td>1</td>\n",
       "      <td>женат / замужем</td>\n",
       "      <td>0</td>\n",
       "      <td>M</td>\n",
       "      <td>сотрудник</td>\n",
       "      <td>0</td>\n",
       "      <td>135823.934197</td>\n",
       "      <td>образование</td>\n",
       "    </tr>\n",
       "    <tr>\n",
       "      <th>8</th>\n",
       "      <td>2</td>\n",
       "      <td>-6929.865299</td>\n",
       "      <td>35</td>\n",
       "      <td>ВЫСШЕЕ</td>\n",
       "      <td>0</td>\n",
       "      <td>гражданский брак</td>\n",
       "      <td>1</td>\n",
       "      <td>F</td>\n",
       "      <td>сотрудник</td>\n",
       "      <td>0</td>\n",
       "      <td>95856.832424</td>\n",
       "      <td>на проведение свадьбы</td>\n",
       "    </tr>\n",
       "    <tr>\n",
       "      <th>9</th>\n",
       "      <td>0</td>\n",
       "      <td>-2188.756445</td>\n",
       "      <td>41</td>\n",
       "      <td>среднее</td>\n",
       "      <td>1</td>\n",
       "      <td>женат / замужем</td>\n",
       "      <td>0</td>\n",
       "      <td>M</td>\n",
       "      <td>сотрудник</td>\n",
       "      <td>0</td>\n",
       "      <td>144425.938277</td>\n",
       "      <td>покупка жилья для семьи</td>\n",
       "    </tr>\n",
       "    <tr>\n",
       "      <th>10</th>\n",
       "      <td>2</td>\n",
       "      <td>-4171.483647</td>\n",
       "      <td>36</td>\n",
       "      <td>высшее</td>\n",
       "      <td>0</td>\n",
       "      <td>женат / замужем</td>\n",
       "      <td>0</td>\n",
       "      <td>M</td>\n",
       "      <td>компаньон</td>\n",
       "      <td>0</td>\n",
       "      <td>113943.491460</td>\n",
       "      <td>покупка недвижимости</td>\n",
       "    </tr>\n",
       "    <tr>\n",
       "      <th>11</th>\n",
       "      <td>0</td>\n",
       "      <td>-792.701887</td>\n",
       "      <td>40</td>\n",
       "      <td>среднее</td>\n",
       "      <td>1</td>\n",
       "      <td>женат / замужем</td>\n",
       "      <td>0</td>\n",
       "      <td>F</td>\n",
       "      <td>сотрудник</td>\n",
       "      <td>0</td>\n",
       "      <td>77069.234271</td>\n",
       "      <td>покупка коммерческой недвижимости</td>\n",
       "    </tr>\n",
       "    <tr>\n",
       "      <th>12</th>\n",
       "      <td>0</td>\n",
       "      <td>NaN</td>\n",
       "      <td>65</td>\n",
       "      <td>среднее</td>\n",
       "      <td>1</td>\n",
       "      <td>гражданский брак</td>\n",
       "      <td>1</td>\n",
       "      <td>M</td>\n",
       "      <td>пенсионер</td>\n",
       "      <td>0</td>\n",
       "      <td>NaN</td>\n",
       "      <td>сыграть свадьбу</td>\n",
       "    </tr>\n",
       "    <tr>\n",
       "      <th>13</th>\n",
       "      <td>0</td>\n",
       "      <td>-1846.641941</td>\n",
       "      <td>54</td>\n",
       "      <td>неоконченное высшее</td>\n",
       "      <td>2</td>\n",
       "      <td>женат / замужем</td>\n",
       "      <td>0</td>\n",
       "      <td>F</td>\n",
       "      <td>сотрудник</td>\n",
       "      <td>0</td>\n",
       "      <td>130458.228857</td>\n",
       "      <td>приобретение автомобиля</td>\n",
       "    </tr>\n",
       "    <tr>\n",
       "      <th>14</th>\n",
       "      <td>0</td>\n",
       "      <td>-1844.956182</td>\n",
       "      <td>56</td>\n",
       "      <td>высшее</td>\n",
       "      <td>0</td>\n",
       "      <td>гражданский брак</td>\n",
       "      <td>1</td>\n",
       "      <td>F</td>\n",
       "      <td>компаньон</td>\n",
       "      <td>1</td>\n",
       "      <td>165127.911772</td>\n",
       "      <td>покупка жилой недвижимости</td>\n",
       "    </tr>\n",
       "    <tr>\n",
       "      <th>15</th>\n",
       "      <td>1</td>\n",
       "      <td>-972.364419</td>\n",
       "      <td>26</td>\n",
       "      <td>среднее</td>\n",
       "      <td>1</td>\n",
       "      <td>женат / замужем</td>\n",
       "      <td>0</td>\n",
       "      <td>F</td>\n",
       "      <td>сотрудник</td>\n",
       "      <td>0</td>\n",
       "      <td>116820.904450</td>\n",
       "      <td>строительство собственной недвижимости</td>\n",
       "    </tr>\n",
       "    <tr>\n",
       "      <th>16</th>\n",
       "      <td>0</td>\n",
       "      <td>-1719.934226</td>\n",
       "      <td>35</td>\n",
       "      <td>среднее</td>\n",
       "      <td>1</td>\n",
       "      <td>женат / замужем</td>\n",
       "      <td>0</td>\n",
       "      <td>F</td>\n",
       "      <td>сотрудник</td>\n",
       "      <td>0</td>\n",
       "      <td>289202.704229</td>\n",
       "      <td>недвижимость</td>\n",
       "    </tr>\n",
       "    <tr>\n",
       "      <th>17</th>\n",
       "      <td>0</td>\n",
       "      <td>-2369.999720</td>\n",
       "      <td>33</td>\n",
       "      <td>высшее</td>\n",
       "      <td>0</td>\n",
       "      <td>гражданский брак</td>\n",
       "      <td>1</td>\n",
       "      <td>M</td>\n",
       "      <td>сотрудник</td>\n",
       "      <td>0</td>\n",
       "      <td>90410.586745</td>\n",
       "      <td>строительство недвижимости</td>\n",
       "    </tr>\n",
       "    <tr>\n",
       "      <th>18</th>\n",
       "      <td>0</td>\n",
       "      <td>400281.136913</td>\n",
       "      <td>53</td>\n",
       "      <td>среднее</td>\n",
       "      <td>1</td>\n",
       "      <td>вдовец / вдова</td>\n",
       "      <td>2</td>\n",
       "      <td>F</td>\n",
       "      <td>пенсионер</td>\n",
       "      <td>0</td>\n",
       "      <td>56823.777243</td>\n",
       "      <td>на покупку подержанного автомобиля</td>\n",
       "    </tr>\n",
       "    <tr>\n",
       "      <th>19</th>\n",
       "      <td>0</td>\n",
       "      <td>-10038.818549</td>\n",
       "      <td>48</td>\n",
       "      <td>СРЕДНЕЕ</td>\n",
       "      <td>1</td>\n",
       "      <td>в разводе</td>\n",
       "      <td>3</td>\n",
       "      <td>F</td>\n",
       "      <td>сотрудник</td>\n",
       "      <td>0</td>\n",
       "      <td>242831.107982</td>\n",
       "      <td>на покупку своего автомобиля</td>\n",
       "    </tr>\n",
       "  </tbody>\n",
       "</table>\n",
       "</div>"
      ],
      "text/plain": [
       "    children  days_employed  dob_years            education  education_id  \\\n",
       "0          1   -8437.673028         42               высшее             0   \n",
       "1          1   -4024.803754         36              среднее             1   \n",
       "2          0   -5623.422610         33              Среднее             1   \n",
       "3          3   -4124.747207         32              среднее             1   \n",
       "4          0  340266.072047         53              среднее             1   \n",
       "5          0    -926.185831         27               высшее             0   \n",
       "6          0   -2879.202052         43               высшее             0   \n",
       "7          0    -152.779569         50              СРЕДНЕЕ             1   \n",
       "8          2   -6929.865299         35               ВЫСШЕЕ             0   \n",
       "9          0   -2188.756445         41              среднее             1   \n",
       "10         2   -4171.483647         36               высшее             0   \n",
       "11         0    -792.701887         40              среднее             1   \n",
       "12         0            NaN         65              среднее             1   \n",
       "13         0   -1846.641941         54  неоконченное высшее             2   \n",
       "14         0   -1844.956182         56               высшее             0   \n",
       "15         1    -972.364419         26              среднее             1   \n",
       "16         0   -1719.934226         35              среднее             1   \n",
       "17         0   -2369.999720         33               высшее             0   \n",
       "18         0  400281.136913         53              среднее             1   \n",
       "19         0  -10038.818549         48              СРЕДНЕЕ             1   \n",
       "\n",
       "       family_status  family_status_id gender income_type  debt  \\\n",
       "0    женат / замужем                 0      F   сотрудник     0   \n",
       "1    женат / замужем                 0      F   сотрудник     0   \n",
       "2    женат / замужем                 0      M   сотрудник     0   \n",
       "3    женат / замужем                 0      M   сотрудник     0   \n",
       "4   гражданский брак                 1      F   пенсионер     0   \n",
       "5   гражданский брак                 1      M   компаньон     0   \n",
       "6    женат / замужем                 0      F   компаньон     0   \n",
       "7    женат / замужем                 0      M   сотрудник     0   \n",
       "8   гражданский брак                 1      F   сотрудник     0   \n",
       "9    женат / замужем                 0      M   сотрудник     0   \n",
       "10   женат / замужем                 0      M   компаньон     0   \n",
       "11   женат / замужем                 0      F   сотрудник     0   \n",
       "12  гражданский брак                 1      M   пенсионер     0   \n",
       "13   женат / замужем                 0      F   сотрудник     0   \n",
       "14  гражданский брак                 1      F   компаньон     1   \n",
       "15   женат / замужем                 0      F   сотрудник     0   \n",
       "16   женат / замужем                 0      F   сотрудник     0   \n",
       "17  гражданский брак                 1      M   сотрудник     0   \n",
       "18    вдовец / вдова                 2      F   пенсионер     0   \n",
       "19         в разводе                 3      F   сотрудник     0   \n",
       "\n",
       "     total_income                                 purpose  \n",
       "0   253875.639453                           покупка жилья  \n",
       "1   112080.014102                 приобретение автомобиля  \n",
       "2   145885.952297                           покупка жилья  \n",
       "3   267628.550329              дополнительное образование  \n",
       "4   158616.077870                         сыграть свадьбу  \n",
       "5   255763.565419                           покупка жилья  \n",
       "6   240525.971920                       операции с жильем  \n",
       "7   135823.934197                             образование  \n",
       "8    95856.832424                   на проведение свадьбы  \n",
       "9   144425.938277                 покупка жилья для семьи  \n",
       "10  113943.491460                    покупка недвижимости  \n",
       "11   77069.234271       покупка коммерческой недвижимости  \n",
       "12            NaN                         сыграть свадьбу  \n",
       "13  130458.228857                 приобретение автомобиля  \n",
       "14  165127.911772              покупка жилой недвижимости  \n",
       "15  116820.904450  строительство собственной недвижимости  \n",
       "16  289202.704229                            недвижимость  \n",
       "17   90410.586745              строительство недвижимости  \n",
       "18   56823.777243      на покупку подержанного автомобиля  \n",
       "19  242831.107982            на покупку своего автомобиля  "
      ]
     },
     "execution_count": 2,
     "metadata": {},
     "output_type": "execute_result"
    }
   ],
   "source": [
    "data.head(20)"
   ]
  },
  {
   "cell_type": "markdown",
   "id": "a65f40de",
   "metadata": {},
   "source": [
    "#### Task 3. Display the basic information about the dataframe using the `info()` method"
   ]
  },
  {
   "cell_type": "code",
   "execution_count": 3,
   "id": "0676ee2f",
   "metadata": {},
   "outputs": [
    {
     "name": "stdout",
     "output_type": "stream",
     "text": [
      "<class 'pandas.core.frame.DataFrame'>\n",
      "RangeIndex: 21525 entries, 0 to 21524\n",
      "Data columns (total 12 columns):\n",
      " #   Column            Non-Null Count  Dtype  \n",
      "---  ------            --------------  -----  \n",
      " 0   children          21525 non-null  int64  \n",
      " 1   days_employed     19351 non-null  float64\n",
      " 2   dob_years         21525 non-null  int64  \n",
      " 3   education         21525 non-null  object \n",
      " 4   education_id      21525 non-null  int64  \n",
      " 5   family_status     21525 non-null  object \n",
      " 6   family_status_id  21525 non-null  int64  \n",
      " 7   gender            21525 non-null  object \n",
      " 8   income_type       21525 non-null  object \n",
      " 9   debt              21525 non-null  int64  \n",
      " 10  total_income      19351 non-null  float64\n",
      " 11  purpose           21525 non-null  object \n",
      "dtypes: float64(2), int64(5), object(5)\n",
      "memory usage: 2.0+ MB\n"
     ]
    }
   ],
   "source": [
    "data.info()"
   ]
  },
  {
   "cell_type": "markdown",
   "id": "ba9efe2a",
   "metadata": {},
   "source": [
    "[Top of this section](#Step-1.-Opening-the-Table-and-Reviewing-General-Data-Information) | [Project Contents](#Table-of-Contents)"
   ]
  },
  {
   "cell_type": "markdown",
   "id": "67678a8b",
   "metadata": {},
   "source": [
    "### Step 2. Data Preprocessing\n",
    "\n",
    "#### Task 4. Display the number of missing values for each column using a combination of two methods"
   ]
  },
  {
   "cell_type": "code",
   "execution_count": 4,
   "id": "23394071",
   "metadata": {
    "scrolled": false
   },
   "outputs": [
    {
     "data": {
      "text/plain": [
       "children               0\n",
       "days_employed       2174\n",
       "dob_years              0\n",
       "education              0\n",
       "education_id           0\n",
       "family_status          0\n",
       "family_status_id       0\n",
       "gender                 0\n",
       "income_type            0\n",
       "debt                   0\n",
       "total_income        2174\n",
       "purpose                0\n",
       "dtype: int64"
      ]
     },
     "execution_count": 4,
     "metadata": {},
     "output_type": "execute_result"
    }
   ],
   "source": [
    "data.isna().sum()"
   ]
  },
  {
   "cell_type": "code",
   "execution_count": 5,
   "id": "6a4be121",
   "metadata": {},
   "outputs": [
    {
     "name": "stdout",
     "output_type": "stream",
     "text": [
      "Proportion of missing values in the `days_employed` column: 10.1%\n",
      "Proportion of missing values in the `total_income` column: 10.1%\n"
     ]
    }
   ],
   "source": [
    "missing_days_employed = data['days_employed'].isna().mean()\n",
    "missing_total_income = data['total_income'].isna().mean()\n",
    "\n",
    "print(f'Proportion of missing values in the `days_employed` column: {missing_days_employed:.1%}')\n",
    "print(f'Proportion of missing values in the `total_income` column: {missing_total_income:.1%}')"
   ]
  },
  {
   "cell_type": "markdown",
   "id": "5f1ab4e8",
   "metadata": {},
   "source": [
    "#### Task 5. Filling missing values in the `total_income` column with median values\n",
    "\n",
    "There are missing values in two columns. One of them is `days_employed`. We will process the missing values in this column in the next step. The other column with missing values is `total_income`, which contains income data. Income is strongly influenced by employment type, so we need to fill the missing values in this column with the median income value for each `income_type` category. For example, for a person with the `сотрудник` income type, the missing value in the `total_income` column should be filled with the median income among all records with the same income type."
   ]
  },
  {
   "cell_type": "code",
   "execution_count": 6,
   "id": "a84aa79f",
   "metadata": {},
   "outputs": [],
   "source": [
    "data['total_income'] = data['total_income'].fillna(\n",
    "    data.groupby('income_type')['total_income'].transform('median'))"
   ]
  },
  {
   "cell_type": "markdown",
   "id": "198cbc72",
   "metadata": {},
   "source": [
    "#### Task 6. Handling anomalies in the `days_employed` column\n",
    "\n",
    "In the data, there may be artifacts (anomalies) — values that do not reflect reality and appeared due to some error. One such artifact is negative values for the number of days employed in the `days_employed` column. For real data, this is normal. Process the values in this column by replacing all negative values with positive ones using the `abs()` method."
   ]
  },
  {
   "cell_type": "code",
   "execution_count": 7,
   "id": "97e38b1f",
   "metadata": {},
   "outputs": [],
   "source": [
    "data['days_employed'] = data['days_employed'].abs()"
   ]
  },
  {
   "cell_type": "markdown",
   "id": "40f738ec",
   "metadata": {},
   "source": [
    "#### Task 7. For each income type, display the median value of days employed in the `days_employed` column\n",
    "\n",
    "Two income types (`безработные` и `пенсионеры`) will have abnormally large values. Fixing such values is difficult, so we leave them as they are."
   ]
  },
  {
   "cell_type": "code",
   "execution_count": 8,
   "id": "1022f7fa",
   "metadata": {},
   "outputs": [
    {
     "data": {
      "text/plain": [
       "income_type\n",
       "безработный        366413.652744\n",
       "в декрете            3296.759962\n",
       "госслужащий          2689.368353\n",
       "компаньон            1547.382223\n",
       "пенсионер          365213.306266\n",
       "предприниматель       520.848083\n",
       "сотрудник            1574.202821\n",
       "студент               578.751554\n",
       "Name: days_employed, dtype: float64"
      ]
     },
     "execution_count": 8,
     "metadata": {},
     "output_type": "execute_result"
    }
   ],
   "source": [
    "# Calculate the median value of 'days_employed' for each income type\n",
    "median_days_employed = data.groupby('income_type')['days_employed'].median()\n",
    "\n",
    "# Display the median value of 'days_employed' for each income type\n",
    "median_days_employed"
   ]
  },
  {
   "cell_type": "markdown",
   "id": "ac3547a5",
   "metadata": {},
   "source": [
    "#### Task 8. Display the list of unique values in the `children` column"
   ]
  },
  {
   "cell_type": "code",
   "execution_count": 9,
   "id": "4343ab9d",
   "metadata": {},
   "outputs": [
    {
     "data": {
      "text/plain": [
       "array([ 1,  0,  3,  2, -1,  4, 20,  5], dtype=int64)"
      ]
     },
     "execution_count": 9,
     "metadata": {},
     "output_type": "execute_result"
    }
   ],
   "source": [
    "data['children'].unique()"
   ]
  },
  {
   "cell_type": "markdown",
   "id": "f7ba9b9a",
   "metadata": {},
   "source": [
    "#### Task 9. Handling anomalies in the `children` column\n",
    "\n",
    "There are two anomalous values in the `children` column. Delete the rows in which such anomalous values occur from the `data` dataframe."
   ]
  },
  {
   "cell_type": "code",
   "execution_count": 10,
   "id": "0ac64d81",
   "metadata": {},
   "outputs": [],
   "source": [
    "data = data[(data['children'] != -1) & (data['children'] != 20)]"
   ]
  },
  {
   "cell_type": "markdown",
   "id": "9124a6c3",
   "metadata": {},
   "source": [
    "#### Task 10. Display the list of unique values in the fixed `children` column\n",
    "\n",
    "Once again, display the list of unique values in the `children` column to ensure that the artifacts have been removed."
   ]
  },
  {
   "cell_type": "code",
   "execution_count": 11,
   "id": "193b3199",
   "metadata": {},
   "outputs": [
    {
     "data": {
      "text/plain": [
       "array([1, 0, 3, 2, 4, 5], dtype=int64)"
      ]
     },
     "execution_count": 11,
     "metadata": {},
     "output_type": "execute_result"
    }
   ],
   "source": [
    "data['children'].unique()"
   ]
  },
  {
   "cell_type": "markdown",
   "id": "959d3077",
   "metadata": {},
   "source": [
    "#### Task 11. Fill in the missing values in the `days_employed` column with median values for each `income_type` category"
   ]
  },
  {
   "cell_type": "code",
   "execution_count": 12,
   "id": "f77d4a01",
   "metadata": {},
   "outputs": [],
   "source": [
    "data['days_employed'] = data['days_employed'].fillna(\n",
    "    data.groupby('income_type')['total_income'].transform('median'))"
   ]
  },
  {
   "cell_type": "markdown",
   "id": "896c28ac",
   "metadata": {},
   "source": [
    "#### Task 12. Ensure that all missing values are filled\n",
    "\n",
    "Check yourself again and display the number of missing values for each column using two methods."
   ]
  },
  {
   "cell_type": "code",
   "execution_count": 13,
   "id": "9bfe0c7d",
   "metadata": {},
   "outputs": [
    {
     "data": {
      "text/plain": [
       "children            0\n",
       "days_employed       0\n",
       "dob_years           0\n",
       "education           0\n",
       "education_id        0\n",
       "family_status       0\n",
       "family_status_id    0\n",
       "gender              0\n",
       "income_type         0\n",
       "debt                0\n",
       "total_income        0\n",
       "purpose             0\n",
       "dtype: int64"
      ]
     },
     "execution_count": 13,
     "metadata": {},
     "output_type": "execute_result"
    }
   ],
   "source": [
    "data.isna().sum()"
   ]
  },
  {
   "cell_type": "markdown",
   "id": "0de03091",
   "metadata": {},
   "source": [
    "#### Task 13. Convert the data type in the `total_income` column from floating-point to integer using the `astype()` method"
   ]
  },
  {
   "cell_type": "code",
   "execution_count": 14,
   "id": "0a17f828",
   "metadata": {},
   "outputs": [],
   "source": [
    "data['total_income'] = data['total_income'].astype('int')"
   ]
  },
  {
   "cell_type": "markdown",
   "id": "26253d14",
   "metadata": {},
   "source": [
    "#### Task 14. Process implicit duplicates in the `education` column\n",
    "\n",
    "In this column, there are the same values but written differently: using uppercase and lowercase letters:"
   ]
  },
  {
   "cell_type": "code",
   "execution_count": 15,
   "id": "3194ab43",
   "metadata": {},
   "outputs": [
    {
     "data": {
      "text/plain": [
       "array(['высшее', 'среднее', 'Среднее', 'СРЕДНЕЕ', 'ВЫСШЕЕ',\n",
       "       'неоконченное высшее', 'начальное', 'Высшее',\n",
       "       'НЕОКОНЧЕННОЕ ВЫСШЕЕ', 'Неоконченное высшее', 'НАЧАЛЬНОЕ',\n",
       "       'Начальное', 'Ученая степень', 'УЧЕНАЯ СТЕПЕНЬ', 'ученая степень'],\n",
       "      dtype=object)"
      ]
     },
     "execution_count": 15,
     "metadata": {},
     "output_type": "execute_result"
    }
   ],
   "source": [
    "data['education'].unique()"
   ]
  },
  {
   "cell_type": "markdown",
   "id": "927ad941",
   "metadata": {},
   "source": [
    "Convert them to lowercase."
   ]
  },
  {
   "cell_type": "code",
   "execution_count": 16,
   "id": "9e585d0c",
   "metadata": {},
   "outputs": [
    {
     "data": {
      "text/plain": [
       "array(['высшее', 'среднее', 'неоконченное высшее', 'начальное',\n",
       "       'ученая степень'], dtype=object)"
      ]
     },
     "execution_count": 16,
     "metadata": {},
     "output_type": "execute_result"
    }
   ],
   "source": [
    "data['education'] = data['education'].str.lower()\n",
    "\n",
    "# Checking the result\n",
    "data['education'].unique()"
   ]
  },
  {
   "cell_type": "markdown",
   "id": "c7c1aba4",
   "metadata": {},
   "source": [
    "#### Task 15. Display the number of duplicate rows in the data. If such rows are present, remove them.\n",
    "\n",
    "There is no need to reset the indices after deleting duplicate rows using `reset_index(drop=True)` here."
   ]
  },
  {
   "cell_type": "code",
   "execution_count": 17,
   "id": "8409a53a",
   "metadata": {},
   "outputs": [
    {
     "name": "stdout",
     "output_type": "stream",
     "text": [
      "Number of duplicate rows in the data: 71\n",
      "Share of duplicate rows in the data:: 0.3317%\n"
     ]
    }
   ],
   "source": [
    "# Proportion of duplicate rows in the `data` dataframe\n",
    "duplicated_share = data.duplicated().mean()\n",
    "\n",
    "print('Number of duplicate rows in the data:', data.duplicated().sum())\n",
    "print(f'Share of duplicate rows in the data:: {duplicated_share:.4%}')"
   ]
  },
  {
   "cell_type": "code",
   "execution_count": 18,
   "id": "d2a58c28",
   "metadata": {},
   "outputs": [],
   "source": [
    "data = data.drop_duplicates()"
   ]
  },
  {
   "cell_type": "markdown",
   "id": "677b89c2",
   "metadata": {},
   "source": [
    "#### Task 16. Categorization of data by the `total_income` column\n",
    "\n",
    "Based on the ranges specified below, create a `total_income_category` column in the `data` dataframe with categories:\n",
    "\n",
    "- 0–30000 — `'E'`;\n",
    "- 30001–50000 — `'D'`;\n",
    "- 50001–200000 — `'C'`;\n",
    "- 200001–1000000 — `'B'`;\n",
    "- 1000001 and above — `'A'`.\n",
    "\n",
    "</br></br>\n",
    "For example, a borrower with an income of 25000 should be assigned category `'E'`, and a client with an income of 235000 should be assigned category `'B'`."
   ]
  },
  {
   "cell_type": "code",
   "execution_count": 19,
   "id": "2357f1c6",
   "metadata": {},
   "outputs": [],
   "source": [
    "# Creating a function for income categorization\n",
    "def set_income_category(row):\n",
    "    total_income = row['total_income']\n",
    "    if total_income <= 30000 and total_income >= 0:\n",
    "        return 'E'\n",
    "    if total_income <= 50000 and total_income >= 30001:\n",
    "        return 'D'\n",
    "    if total_income <= 200000 and total_income >= 50001:\n",
    "        return 'C'\n",
    "    if total_income <= 1000000 and total_income >= 200001:\n",
    "        return 'B'\n",
    "    if total_income > 1000001:\n",
    "        return 'A'"
   ]
  },
  {
   "cell_type": "code",
   "execution_count": 20,
   "id": "df13ae7c",
   "metadata": {},
   "outputs": [],
   "source": [
    "# Adding an income category column to the original dataframe\n",
    "data['total_income_category'] = data.apply(set_income_category, axis=1)"
   ]
  },
  {
   "cell_type": "markdown",
   "id": "1a2aa98f",
   "metadata": {},
   "source": [
    "#### Task 17. Display the list of unique loan purposes from the `purpose` column"
   ]
  },
  {
   "cell_type": "code",
   "execution_count": 21,
   "id": "6d9f45ed",
   "metadata": {},
   "outputs": [
    {
     "data": {
      "text/plain": [
       "array(['покупка жилья', 'приобретение автомобиля',\n",
       "       'дополнительное образование', 'сыграть свадьбу',\n",
       "       'операции с жильем', 'образование', 'на проведение свадьбы',\n",
       "       'покупка жилья для семьи', 'покупка недвижимости',\n",
       "       'покупка коммерческой недвижимости', 'покупка жилой недвижимости',\n",
       "       'строительство собственной недвижимости', 'недвижимость',\n",
       "       'строительство недвижимости', 'на покупку подержанного автомобиля',\n",
       "       'на покупку своего автомобиля',\n",
       "       'операции с коммерческой недвижимостью',\n",
       "       'строительство жилой недвижимости', 'жилье',\n",
       "       'операции со своей недвижимостью', 'автомобили',\n",
       "       'заняться образованием', 'сделка с подержанным автомобилем',\n",
       "       'получение образования', 'автомобиль', 'свадьба',\n",
       "       'получение дополнительного образования', 'покупка своего жилья',\n",
       "       'операции с недвижимостью', 'получение высшего образования',\n",
       "       'свой автомобиль', 'сделка с автомобилем',\n",
       "       'профильное образование', 'высшее образование',\n",
       "       'покупка жилья для сдачи', 'на покупку автомобиля', 'ремонт жилью',\n",
       "       'заняться высшим образованием'], dtype=object)"
      ]
     },
     "execution_count": 21,
     "metadata": {},
     "output_type": "execute_result"
    }
   ],
   "source": [
    "data['purpose'].unique()"
   ]
  },
  {
   "cell_type": "markdown",
   "id": "7769093c",
   "metadata": {},
   "source": [
    "#### Task 18. Categorization of data by the `purpose` column\n",
    "\n",
    "Create a function that will form a new `purpose_category` column  based on the data from the `purpose` column with the following categories:\n",
    "\n",
    "- `'операции с автомобилем'`,\n",
    "- `'операции с недвижимостью'`,\n",
    "- `'проведение свадьбы'`,\n",
    "- `'получение образования'`.\n",
    "\n",
    "</br></br>\n",
    "For example, if the `purpose` column contains the substring `'на покупку автомобиля'`, the `purpose_category` column should contain the string `'операции с автомобилем'`. Use your own function named `categorize_purpose()` and the `apply()` method. Examine the data in the `purpose` column to determine which substrings will help you correctly determine the category.\n",
    "\n",
    "After [studying the unique values in the `purpose` column](#Task-17.-Display-the-list-of-unique-loan-purposes-from-the-purpose-column), let's group them into four main categories:\n",
    "\n",
    "<table style = \"width: 100%; margin-bottom: 20px; border: 1px solid #dddddd; border-collapse: collapse\">\n",
    "    <thead style = \"background: #efefef; border: 1px solid #dddddd\">\n",
    "        <tr>\n",
    "            <th style = \"width: 25%; text-align: center\">Category</th>\n",
    "            <th style = \"text-align: center\">Values in the `purpose` column</th>\n",
    "        </tr>    \n",
    "    </thead>\n",
    "    <tbody>\n",
    "        <tr>\n",
    "            <td style = \"text-align: left\">операции с автомобилем</td>\n",
    "            <td style = \"text-align: left\">'приобретение автомобиля', 'на покупку подержанного автомобиля', 'на покупку своего автомобиля', 'автомобили', 'сделка с подержанным автомобилем', 'автомобиль', 'свой автомобиль', 'сделка с автомобилем', 'на покупку автомобиля'</td>\n",
    "        </tr>\n",
    "        <tr>\n",
    "            <td style = \"text-align: left\">операции с недвижимостью</td>\n",
    "            <td style = \"text-align: left\">'покупка жилья', 'операции с жильем', 'покупка жилья для семьи', 'покупка недвижимости', 'покупка коммерческой недвижимости', 'покупка жилой недвижимости', 'строительство собственной недвижимости', 'недвижимость', 'строительство недвижимости', 'операции с коммерческой недвижимостью', 'строительство жилой недвижимости', 'жилье', 'операции со своей недвижимостью', 'покупка своего жилья', 'операции с недвижимостью', 'покупка жилья для сдачи', 'ремонт жилью'</td>\n",
    "    </tr>\n",
    "    <tr>\n",
    "      <td style = \"text-align: left\">проведение свадьбы</td>\n",
    "      <td style = \"text-align: left\">'сыграть свадьбу', 'на проведение свадьбы', 'свадьба'</td>\n",
    "    </tr>    \n",
    "    <tr>\n",
    "      <td style = \"text-align: left\">получение образования</td>\n",
    "      <td style = \"text-align: left\">'дополнительное образование', 'образование', 'заняться образованием', 'получение образования', 'получение дополнительного образования', 'получение высшего образования', 'профильное образование', 'высшее образование', 'заняться высшим образованием'</td>\n",
    "    </tr>\n",
    "    </tbody>    \n",
    "</table>\n",
    "\n",
    "Based on these sets, we will create a list of keywords that we will use with a function to divide the original dataframe into categories of loan purposes:\n",
    "\n",
    "\n",
    "<table style = \"width: 100%; margin-bottom: 20px; border: 1px solid #dddddd; border-collapse: collapse\">\n",
    "    <thead style = \"background: #efefef; border: 1px solid #dddddd\">\n",
    "        <tr>\n",
    "            <th style = \"width: 25%; text-align: center\">Category</th>\n",
    "            <th style = \"text-align: center\">Substring</th>\n",
    "        </tr>    \n",
    "    </thead>\n",
    "    <tbody>\n",
    "        <tr>\n",
    "            <td style = \"text-align: left\">операции с автомобилем</td>\n",
    "            <td style = \"text-align: left\">\"автомобил\"</td>\n",
    "        </tr>\n",
    "        <tr>\n",
    "            <td style = \"text-align: left\">операции с недвижимостью</td>\n",
    "            <td style = \"text-align: left\">\"жил\" и \"недвиж\"</td>\n",
    "    </tr>\n",
    "    <tr>\n",
    "      <td style = \"text-align: left\">проведение свадьбы</td>\n",
    "      <td style = \"text-align: left\">\"свадьб\"</td>\n",
    "    </tr>    \n",
    "    <tr>\n",
    "      <td style = \"text-align: left\">получение образования</td>\n",
    "      <td style = \"text-align: left\">\"образ\"</td>\n",
    "    </tr>\n",
    "    </tbody>    \n",
    "</table>"
   ]
  },
  {
   "cell_type": "code",
   "execution_count": 22,
   "id": "061b7002",
   "metadata": {},
   "outputs": [],
   "source": [
    "# Creating a function for loan purpose categorization\n",
    "def purpose_category(list):\n",
    "    if \"автомобил\" in list:\n",
    "        return \"операции с автомобилем\"\n",
    "    if \"жил\" in list or \"недвиж\" in list:\n",
    "        return \"операции с недвижимостью\"\n",
    "    if \"свадьб\" in list:\n",
    "        return \"проведение свадьбы\"\n",
    "    if \"образ\" in list:\n",
    "        return \"получение образования\""
   ]
  },
  {
   "cell_type": "code",
   "execution_count": 23,
   "id": "89a03abc",
   "metadata": {},
   "outputs": [],
   "source": [
    "# Adding an purpose category column to the original dataframe\n",
    "data['purpose_category'] = data['purpose'].apply(purpose_category)"
   ]
  },
  {
   "cell_type": "markdown",
   "id": "3344f18b",
   "metadata": {},
   "source": [
    "[Top of this section](#Step-2.-Data-Preprocessing) | [Project Contents](#Table-of-Contents)"
   ]
  },
  {
   "cell_type": "markdown",
   "id": "93c8d94b",
   "metadata": {},
   "source": [
    "## Part 2\n",
    "\n",
    "### Step 3. Data Exploration and Answering to the Questions\n",
    "\n",
    "In the `debt` column, information about whether a client had debt on loans is stored as a binary feature:\n",
    "\n",
    "- `'0'` - no delinquencies;\n",
    "- `'1'` - there were delinquencies.\n",
    "\n",
    "\n",
    "For the purposes of our project, we will analyze the ratio of the number of clients with loan delinquencies to the number of clients without delinquencies.\n",
    "\n",
    "\n",
    "#### Task 19. Is there a correlation between the number of children and timely loan repayment?"
   ]
  },
  {
   "cell_type": "code",
   "execution_count": 24,
   "id": "d97baed4",
   "metadata": {
    "scrolled": true
   },
   "outputs": [
    {
     "data": {
      "text/html": [
       "<div>\n",
       "<style scoped>\n",
       "    .dataframe tbody tr th:only-of-type {\n",
       "        vertical-align: middle;\n",
       "    }\n",
       "\n",
       "    .dataframe tbody tr th {\n",
       "        vertical-align: top;\n",
       "    }\n",
       "\n",
       "    .dataframe thead th {\n",
       "        text-align: right;\n",
       "    }\n",
       "</style>\n",
       "<table border=\"1\" class=\"dataframe\">\n",
       "  <thead>\n",
       "    <tr style=\"text-align: right;\">\n",
       "      <th>children</th>\n",
       "      <th>0</th>\n",
       "      <th>1</th>\n",
       "      <th>2</th>\n",
       "      <th>3</th>\n",
       "      <th>4</th>\n",
       "      <th>5</th>\n",
       "    </tr>\n",
       "    <tr>\n",
       "      <th>debt</th>\n",
       "      <th></th>\n",
       "      <th></th>\n",
       "      <th></th>\n",
       "      <th></th>\n",
       "      <th></th>\n",
       "      <th></th>\n",
       "    </tr>\n",
       "  </thead>\n",
       "  <tbody>\n",
       "    <tr>\n",
       "      <th>0</th>\n",
       "      <td>13028.00</td>\n",
       "      <td>4364.00</td>\n",
       "      <td>1858.00</td>\n",
       "      <td>303.00</td>\n",
       "      <td>37.00</td>\n",
       "      <td>9.0</td>\n",
       "    </tr>\n",
       "    <tr>\n",
       "      <th>1</th>\n",
       "      <td>1063.00</td>\n",
       "      <td>444.00</td>\n",
       "      <td>194.00</td>\n",
       "      <td>27.00</td>\n",
       "      <td>4.00</td>\n",
       "      <td>NaN</td>\n",
       "    </tr>\n",
       "    <tr>\n",
       "      <th>ratio</th>\n",
       "      <td>8.16</td>\n",
       "      <td>10.17</td>\n",
       "      <td>10.44</td>\n",
       "      <td>8.91</td>\n",
       "      <td>10.81</td>\n",
       "      <td>NaN</td>\n",
       "    </tr>\n",
       "  </tbody>\n",
       "</table>\n",
       "</div>"
      ],
      "text/plain": [
       "children         0        1        2       3      4    5\n",
       "debt                                                    \n",
       "0         13028.00  4364.00  1858.00  303.00  37.00  9.0\n",
       "1          1063.00   444.00   194.00   27.00   4.00  NaN\n",
       "ratio         8.16    10.17    10.44    8.91  10.81  NaN"
      ]
     },
     "execution_count": 24,
     "metadata": {},
     "output_type": "execute_result"
    }
   ],
   "source": [
    "# Creating a pivot table using 'debt' as index, 'children' as columns,\n",
    "# and counting the occurrences of 'family_status_id' as values.\n",
    "pivot_1 = data.pivot_table(index='debt',\n",
    "                           columns='children',\n",
    "                           values='family_status_id',\n",
    "                           aggfunc='count')\n",
    "\n",
    "# Adding the string 'ratio' that calculates the non-return rate,\n",
    "# multiplied by 100 for percentage, and rounded to 2 decimal places.\n",
    "pivot_1.loc['ratio'] = ((pivot_1.loc[1] / pivot_1.loc[0]) * 100).round(2)\n",
    "\n",
    "# Displaying the pivot table\n",
    "pivot_1"
   ]
  },
  {
   "cell_type": "markdown",
   "id": "e9d99f0d",
   "metadata": {},
   "source": [
    "**Preliminary conclusion**\n",
    "\n",
    "It can be concluded that there is a correlation between the number of children and the number of overdue loans. Increasing the number of children in the family leads to a higher non-return rate (the ratio of clients with defaults to those without debt on the loan).\n",
    "\n",
    "#### Task 20. Is there a correlation between marital status and timely loan repayment?"
   ]
  },
  {
   "cell_type": "code",
   "execution_count": 25,
   "id": "d1269677",
   "metadata": {
    "scrolled": true
   },
   "outputs": [
    {
     "data": {
      "text/html": [
       "<div>\n",
       "<style scoped>\n",
       "    .dataframe tbody tr th:only-of-type {\n",
       "        vertical-align: middle;\n",
       "    }\n",
       "\n",
       "    .dataframe tbody tr th {\n",
       "        vertical-align: top;\n",
       "    }\n",
       "\n",
       "    .dataframe thead th {\n",
       "        text-align: right;\n",
       "    }\n",
       "</style>\n",
       "<table border=\"1\" class=\"dataframe\">\n",
       "  <thead>\n",
       "    <tr style=\"text-align: right;\">\n",
       "      <th>family_status</th>\n",
       "      <th>Не женат / не замужем</th>\n",
       "      <th>в разводе</th>\n",
       "      <th>вдовец / вдова</th>\n",
       "      <th>гражданский брак</th>\n",
       "      <th>женат / замужем</th>\n",
       "    </tr>\n",
       "    <tr>\n",
       "      <th>debt</th>\n",
       "      <th></th>\n",
       "      <th></th>\n",
       "      <th></th>\n",
       "      <th></th>\n",
       "      <th></th>\n",
       "    </tr>\n",
       "  </thead>\n",
       "  <tbody>\n",
       "    <tr>\n",
       "      <th>0</th>\n",
       "      <td>2523.00</td>\n",
       "      <td>1105.0</td>\n",
       "      <td>888.00</td>\n",
       "      <td>3749.00</td>\n",
       "      <td>11334.00</td>\n",
       "    </tr>\n",
       "    <tr>\n",
       "      <th>1</th>\n",
       "      <td>273.00</td>\n",
       "      <td>84.0</td>\n",
       "      <td>63.00</td>\n",
       "      <td>385.00</td>\n",
       "      <td>927.00</td>\n",
       "    </tr>\n",
       "    <tr>\n",
       "      <th>ratio</th>\n",
       "      <td>10.82</td>\n",
       "      <td>7.6</td>\n",
       "      <td>7.09</td>\n",
       "      <td>10.27</td>\n",
       "      <td>8.18</td>\n",
       "    </tr>\n",
       "  </tbody>\n",
       "</table>\n",
       "</div>"
      ],
      "text/plain": [
       "family_status  Не женат / не замужем  в разводе  вдовец / вдова  \\\n",
       "debt                                                              \n",
       "0                            2523.00     1105.0          888.00   \n",
       "1                             273.00       84.0           63.00   \n",
       "ratio                          10.82        7.6            7.09   \n",
       "\n",
       "family_status  гражданский брак  женат / замужем  \n",
       "debt                                              \n",
       "0                       3749.00         11334.00  \n",
       "1                        385.00           927.00  \n",
       "ratio                     10.27             8.18  "
      ]
     },
     "execution_count": 25,
     "metadata": {},
     "output_type": "execute_result"
    }
   ],
   "source": [
    "# Creating a pivot table using 'debt' as index, 'family_status_id' as columns, \n",
    "# and counting the occurrences of 'dob_years' as values.\n",
    "pivot_2 = data.pivot_table(index='debt',\n",
    "                           columns='family_status',\n",
    "                           values='dob_years',\n",
    "                           aggfunc='count')\n",
    "\n",
    "# Adding the string 'ratio' that calculates the non-return rate,\n",
    "# multiplied by 100 for percentage, and rounded to 2 decimal places.\n",
    "pivot_2.loc['ratio'] = ((pivot_2.loc[1] / pivot_2.loc[0]) * 100).round(2)\n",
    "\n",
    "# Displaying the pivot table\n",
    "pivot_2 "
   ]
  },
  {
   "cell_type": "markdown",
   "id": "967fa59a",
   "metadata": {},
   "source": [
    "**Preliminary conclusion**\n",
    "\n",
    "The non-return rate is higher among single individuals and those in civil marriages.\n",
    "\n",
    "#### Task 21. Is there a correlation between income level and timely loan repayment?"
   ]
  },
  {
   "cell_type": "code",
   "execution_count": 26,
   "id": "6891894d",
   "metadata": {
    "scrolled": true
   },
   "outputs": [
    {
     "data": {
      "text/html": [
       "<div>\n",
       "<style scoped>\n",
       "    .dataframe tbody tr th:only-of-type {\n",
       "        vertical-align: middle;\n",
       "    }\n",
       "\n",
       "    .dataframe tbody tr th {\n",
       "        vertical-align: top;\n",
       "    }\n",
       "\n",
       "    .dataframe thead th {\n",
       "        text-align: right;\n",
       "    }\n",
       "</style>\n",
       "<table border=\"1\" class=\"dataframe\">\n",
       "  <thead>\n",
       "    <tr style=\"text-align: right;\">\n",
       "      <th>total_income_category</th>\n",
       "      <th>A</th>\n",
       "      <th>B</th>\n",
       "      <th>C</th>\n",
       "      <th>D</th>\n",
       "      <th>E</th>\n",
       "    </tr>\n",
       "    <tr>\n",
       "      <th>debt</th>\n",
       "      <th></th>\n",
       "      <th></th>\n",
       "      <th></th>\n",
       "      <th></th>\n",
       "      <th></th>\n",
       "    </tr>\n",
       "  </thead>\n",
       "  <tbody>\n",
       "    <tr>\n",
       "      <th>0</th>\n",
       "      <td>23.0</td>\n",
       "      <td>4660.0</td>\n",
       "      <td>14568.00</td>\n",
       "      <td>328.0</td>\n",
       "      <td>20.0</td>\n",
       "    </tr>\n",
       "    <tr>\n",
       "      <th>1</th>\n",
       "      <td>2.0</td>\n",
       "      <td>354.0</td>\n",
       "      <td>1353.00</td>\n",
       "      <td>21.0</td>\n",
       "      <td>2.0</td>\n",
       "    </tr>\n",
       "    <tr>\n",
       "      <th>ratio</th>\n",
       "      <td>8.7</td>\n",
       "      <td>7.6</td>\n",
       "      <td>9.29</td>\n",
       "      <td>6.4</td>\n",
       "      <td>10.0</td>\n",
       "    </tr>\n",
       "  </tbody>\n",
       "</table>\n",
       "</div>"
      ],
      "text/plain": [
       "total_income_category     A       B         C      D     E\n",
       "debt                                                      \n",
       "0                      23.0  4660.0  14568.00  328.0  20.0\n",
       "1                       2.0   354.0   1353.00   21.0   2.0\n",
       "ratio                   8.7     7.6      9.29    6.4  10.0"
      ]
     },
     "execution_count": 26,
     "metadata": {},
     "output_type": "execute_result"
    }
   ],
   "source": [
    "# Creating a pivot table using 'debt' as index, 'total_income_category' as columns, \n",
    "# and counting the occurrences of 'dob_years' as values.\n",
    "pivot_3 = data.pivot_table(index='debt',\n",
    "                           columns='total_income_category',\n",
    "                           values='dob_years',\n",
    "                           aggfunc='count')\n",
    "\n",
    "# Adding a new strip 'ratio' that calculates the non-return rate,\n",
    "# multiplied by 100 for percentage, and rounded to 2 decimal places.\n",
    "pivot_3.loc['ratio'] = ((pivot_3.loc[1] / pivot_3.loc[0]) * 100).round(2)\n",
    "\n",
    "# Transposing the pivot table to have 'children' as columns and 'debt' as index.\n",
    "pivot_3 "
   ]
  },
  {
   "cell_type": "markdown",
   "id": "bc1f5c00",
   "metadata": {},
   "source": [
    "**Preliminary conclusion**\n",
    "\n",
    "The highest non-return rate is among the group `E` with incomes up to 30,000 rubles and the group `C` with income levels from 50,001 to 200,000 rubles.\n",
    "\n",
    "#### Task 22. How do different loan purposes affect their repayment on time?"
   ]
  },
  {
   "cell_type": "code",
   "execution_count": 27,
   "id": "e918ac02",
   "metadata": {
    "scrolled": true
   },
   "outputs": [
    {
     "data": {
      "text/html": [
       "<div>\n",
       "<style scoped>\n",
       "    .dataframe tbody tr th:only-of-type {\n",
       "        vertical-align: middle;\n",
       "    }\n",
       "\n",
       "    .dataframe tbody tr th {\n",
       "        vertical-align: top;\n",
       "    }\n",
       "\n",
       "    .dataframe thead th {\n",
       "        text-align: right;\n",
       "    }\n",
       "</style>\n",
       "<table border=\"1\" class=\"dataframe\">\n",
       "  <thead>\n",
       "    <tr style=\"text-align: right;\">\n",
       "      <th>purpose_category</th>\n",
       "      <th>операции с автомобилем</th>\n",
       "      <th>операции с недвижимостью</th>\n",
       "      <th>получение образования</th>\n",
       "      <th>проведение свадьбы</th>\n",
       "    </tr>\n",
       "    <tr>\n",
       "      <th>debt</th>\n",
       "      <th></th>\n",
       "      <th></th>\n",
       "      <th></th>\n",
       "      <th></th>\n",
       "    </tr>\n",
       "  </thead>\n",
       "  <tbody>\n",
       "    <tr>\n",
       "      <th>0</th>\n",
       "      <td>3879.00</td>\n",
       "      <td>9971.00</td>\n",
       "      <td>3619.0</td>\n",
       "      <td>2130.00</td>\n",
       "    </tr>\n",
       "    <tr>\n",
       "      <th>1</th>\n",
       "      <td>400.00</td>\n",
       "      <td>780.00</td>\n",
       "      <td>369.0</td>\n",
       "      <td>183.00</td>\n",
       "    </tr>\n",
       "    <tr>\n",
       "      <th>ratio</th>\n",
       "      <td>10.31</td>\n",
       "      <td>7.82</td>\n",
       "      <td>10.2</td>\n",
       "      <td>8.59</td>\n",
       "    </tr>\n",
       "  </tbody>\n",
       "</table>\n",
       "</div>"
      ],
      "text/plain": [
       "purpose_category  операции с автомобилем  операции с недвижимостью  \\\n",
       "debt                                                                 \n",
       "0                                3879.00                   9971.00   \n",
       "1                                 400.00                    780.00   \n",
       "ratio                              10.31                      7.82   \n",
       "\n",
       "purpose_category  получение образования  проведение свадьбы  \n",
       "debt                                                         \n",
       "0                                3619.0             2130.00  \n",
       "1                                 369.0              183.00  \n",
       "ratio                              10.2                8.59  "
      ]
     },
     "execution_count": 27,
     "metadata": {},
     "output_type": "execute_result"
    }
   ],
   "source": [
    "# Creating a pivot table using 'debt' as index, 'purpose_category' as columns, \n",
    "# and counting the occurrences of 'dob_years' as values.\n",
    "pivot_4 = data.pivot_table(index='debt',\n",
    "                           columns='purpose_category',\n",
    "                           values='dob_years',\n",
    "                           aggfunc='count')\n",
    "\n",
    "# Adding a new strip 'ratio' that calculates the non-return rate,\n",
    "# multiplied by 100 for percentage, and rounded to 2 decimal places.\n",
    "pivot_4.loc['ratio'] = ((pivot_4.loc[1] / pivot_4.loc[0]) * 100).round(2)\n",
    "\n",
    "# Displaying the pivot table\n",
    "pivot_4 "
   ]
  },
  {
   "cell_type": "markdown",
   "id": "419b4a50",
   "metadata": {},
   "source": [
    "**Preliminary conclusion**\n",
    "\n",
    "The highest risk of default on loans is for real estate operations and auto loans.\n",
    "\n",
    "#### Task 23. Provide possible reasons for the presence of missing values in the original data\n",
    "\n",
    "Based on the [dataset review](#Task-4.-Display-the-number-of-missing-values-for-each-column-using-a-combination-of-two-methods), missing values are detected in two columns: `days_employed` and `total_income`. There is no missing data in other columns. Both columns contain quantitative variables (the number of days of employment and the amount of monthly income). The most likely reason for their occurrence is the insufficient information during data entry (for example, it makes sense to have missing values if the monthly income is calculated based on the number of days of employment).\n",
    "\n",
    "#### Task 24. Explain why filling missing values with the median is the best solution for quantitative variables.\n",
    "\n",
    "Filling in missing values with the median is one of the common methods for handling missing data in quantitative variables, and it can be a good solution for several reasons:\n",
    "\n",
    "* **Preservation of Statistical Characteristics:** The median is a measure of central tendency that is not sensitive to outliers, unlike, for example, the mean. Filling in missing values with the median allows us to preserve the overall data structure and prevent distortion of statistical characteristics of the distribution.\n",
    "\n",
    "\n",
    "* **Avoidance of Distortions:** Filling zero values with the median helps avoid distorting the data distribution. If we were to fill zero values, for instance, with the mean, it could significantly impact the mean and make it less informative.\n",
    "\n",
    "\n",
    "* **Simplicity and Interpretability:** Filling in missing values with the median is a simple and intuitive method that doesn't require complex calculations or additional data. This simplifies result interpretation.\n",
    "\n",
    "\n",
    "* **Robustness to Outliers:** The median is robust to outliers. This means that even if there are a few extreme values (outliers) in the data, the median remains stable. This is useful when dealing with data that contains outliers, which can distort the mean.\n",
    "\n",
    "\n",
    "* **Reduced Information Loss:** Filling in missing values with the median allows us to retain existing information. When deleting rows with missing data, you may lose other important characteristics that can be valuable for analysis."
   ]
  },
  {
   "cell_type": "markdown",
   "id": "ea11cf80",
   "metadata": {},
   "source": [
    "[Top of this section](#Step-3.-Data-Exploration-and-Answers-to-the-Questions) | [Project Contents](#Table-of-Contents)"
   ]
  },
  {
   "cell_type": "markdown",
   "id": "a95826b2",
   "metadata": {},
   "source": [
    "### Step 4. Conclusion\n",
    "\n",
    "In this project, we looked closely at the data provided by the bank's credit department to understand how certain factors affect loan repayments. We focused on family size, marital status, income, and loan purpose.\n",
    "\n",
    "Our analysis revealed several key insights:\n",
    "\n",
    "* **Family Size Matters:** Families with more children tend to have a harder time repaying loans. As the number of kids increases, so does the chance of missing payments.\n",
    "\n",
    "\n",
    "* **Marital Status Counts:** People who are not married or are in civil partnerships are more likely to have trouble repaying loans compared to married individuals.\n",
    "\n",
    "\n",
    "* **Income Levels:** Clients with lower incomes (up to 30,000 rubles) and moderate incomes (50,001 to 200,000 rubles) are at a higher risk of not repaying loans. This might be because more people fall into these income categories.\n",
    "\n",
    "\n",
    "* **Loan Purpose:** Loans for real estate and cars are riskier. Borrowers taking loans for these reasons tend to struggle more with repayments.\n",
    "\n",
    "\n",
    "These findings can help the bank make better lending decisions. By considering family size, marital status, income, and loan purpose, the bank can improve its credit scoring system and identify trustworthy borrowers.\n",
    "\n",
    "In a nutshell, this project doesn't just answer questions about loan repayment; it also sets the stage for smarter lending. By using data to make decisions, the bank can lower risks and serve its customers better."
   ]
  },
  {
   "cell_type": "markdown",
   "id": "93cef303",
   "metadata": {},
   "source": [
    "[Top of this section](#Step-4.-Conclusion) | [Project Contents](#Table-of-Contents)"
   ]
  },
  {
   "cell_type": "markdown",
   "id": "68314ec2",
   "metadata": {},
   "source": [
    "## Project Completion Checklist\n",
    "\n",
    "**Step 1. Opening the Table and Reviewing General Data Information**\n",
    "- [x] Task 1. Import the pandas library. Read the data from the .csv file into a dataframe and save it in the `'data'` variable\n",
    "- [x] Task 2. Display the first 20 rows of the `'data'` dataframe\n",
    "- [x] Task 3. Display the basic information about the dataframe using the `info()` method\n",
    "\n",
    "</br></br>\n",
    "**Step 2. Data Preprocessing**\n",
    "- [x] Task 4. Display the number of missing values for each column using a combination of two methods\n",
    "- [x] Task 5. Filling missing values in the `total_income` column with median values\n",
    "- [x] Task 6. Handling anomalies in the `days_employed` column\n",
    "- [x] Task 7. For each income type, display the median value of days employed in the `days_employed` column\n",
    "- [x] Task 8. Display the list of unique values in the `children` column\n",
    "- [x] Task 9. Handling anomalies in the `children` column\n",
    "- [x] Task 10. Display the list of unique values in the fixed `children` column\n",
    "- [x] Task 11. Fill in the missing values in the `days_employed` column with median values for each `income_type` category\n",
    "- [x] Task 12. Ensure that all missing values are filled\n",
    "- [x] Task 13. Convert the data type in the `total_income` column from floating-point to integer using the `astype()` method\n",
    "- [x] Task 14. Process implicit duplicates in the `education` column\n",
    "- [x] Task 15. Display the number of duplicate rows in the data. If such rows are present, remove them.\n",
    "- [x] Task 16. Categorization of data by the `total_income` column\n",
    "- [x] Task 17. Display the list of unique loan purposes from the `purpose` column\n",
    "- [x] Task 18. Categorization of data by the `purpose` column\n",
    "\n",
    "</br></br>\n",
    "**Step 3. Data Exploration and Answering to the Questions**\n",
    "- [x] Task 19. Is there a correlation between the number of children and timely loan repayment?\n",
    "- [x] Task 20. Is there a correlation between marital status and timely loan repayment?\n",
    "- [x] Task 21. Is there a correlation between income level and timely loan repayment?\n",
    "- [x] Task 22. How do different loan purposes affect their repayment on time?\n",
    "- [x] Task 23. Provide possible reasons for the presence of missing values in the original data\n",
    "- [x] Task 24. Explain why filling missing values with the median is the best solution for quantitative variables.\n",
    "\n",
    "</br></br>\n",
    "**Step 4. Conclusion**\n",
    "- [x] Overall conclusion drawn for the entire study\n",
    "\n",
    "</br></br>    \n",
    "[Project Contents](#Table-of-Contents)"
   ]
  }
 ],
 "metadata": {
  "kernelspec": {
   "display_name": "Python 3 (ipykernel)",
   "language": "python",
   "name": "python3"
  },
  "language_info": {
   "codemirror_mode": {
    "name": "ipython",
    "version": 3
   },
   "file_extension": ".py",
   "mimetype": "text/x-python",
   "name": "python",
   "nbconvert_exporter": "python",
   "pygments_lexer": "ipython3",
   "version": "3.10.6"
  },
  "toc": {
   "base_numbering": 1,
   "nav_menu": {},
   "number_sections": true,
   "sideBar": true,
   "skip_h1_title": true,
   "title_cell": "Table of Contents",
   "title_sidebar": "Contents",
   "toc_cell": true,
   "toc_position": {
    "height": "calc(100% - 180px)",
    "left": "10px",
    "top": "150px",
    "width": "327.4px"
   },
   "toc_section_display": true,
   "toc_window_display": true
  }
 },
 "nbformat": 4,
 "nbformat_minor": 5
}
