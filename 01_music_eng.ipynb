{
 "cells": [
  {
   "cell_type": "markdown",
   "id": "1214c2bb",
   "metadata": {},
   "source": [
    "# Music and the Cities\n",
    "\n",
    "Project on [Yandex Music](https://music.yandex.ru/) streaming service user behavior analysis: Comparing the music preferences of users from Moscow and St. Petersburg.\n",
    "\n",
    "**Project status:** ✅сompleted, reviewed."
   ]
  },
  {
   "cell_type": "markdown",
   "id": "0325b4d0",
   "metadata": {
    "toc": true
   },
   "source": [
    "<h1>Table of Contents<span class=\"tocSkip\"></span></h1>\n",
    "<div class=\"toc\"><ul class=\"toc-item\"><li><span><a href=\"#Project-Overview\" data-toc-modified-id=\"Project-Overview-1\"><span class=\"toc-item-num\">1&nbsp;&nbsp;</span>Project Overview</a></span></li><li><span><a href=\"#Project-Summary\" data-toc-modified-id=\"Project-Summary-2\"><span class=\"toc-item-num\">2&nbsp;&nbsp;</span>Project Summary</a></span></li><li><span><a href=\"#Outline\" data-toc-modified-id=\"Outline-3\"><span class=\"toc-item-num\">3&nbsp;&nbsp;</span>Outline</a></span></li><li><span><a href=\"#Reading-the-Data-set\" data-toc-modified-id=\"Reading-the-Data-set-4\"><span class=\"toc-item-num\">4&nbsp;&nbsp;</span>Reading the Data set</a></span></li><li><span><a href=\"#Data-Preparation:-Cleaning-and-Formatting\" data-toc-modified-id=\"Data-Preparation:-Cleaning-and-Formatting-5\"><span class=\"toc-item-num\">5&nbsp;&nbsp;</span>Data Preparation: Cleaning and Formatting</a></span></li><li><span><a href=\"#Hypothesis-testing\" data-toc-modified-id=\"Hypothesis-testing-6\"><span class=\"toc-item-num\">6&nbsp;&nbsp;</span>Hypothesis testing</a></span><ul class=\"toc-item\"><li><span><a href=\"#Hypothesis-1\" data-toc-modified-id=\"Hypothesis-1-6.1\"><span class=\"toc-item-num\">6.1&nbsp;&nbsp;</span>Hypothesis 1</a></span></li><li><span><a href=\"#Hypothesis-2\" data-toc-modified-id=\"Hypothesis-2-6.2\"><span class=\"toc-item-num\">6.2&nbsp;&nbsp;</span>Hypothesis 2</a></span></li><li><span><a href=\"#Hypothesis-3\" data-toc-modified-id=\"Hypothesis-3-6.3\"><span class=\"toc-item-num\">6.3&nbsp;&nbsp;</span>Hypothesis 3</a></span></li></ul></li><li><span><a href=\"#Research-Findings\" data-toc-modified-id=\"Research-Findings-7\"><span class=\"toc-item-num\">7&nbsp;&nbsp;</span>Research Findings</a></span></li><li><span><a href=\"#Project-Completion-Checklist\" data-toc-modified-id=\"Project-Completion-Checklist-8\"><span class=\"toc-item-num\">8&nbsp;&nbsp;</span>Project Completion Checklist</a></span></li></ul></div>"
   ]
  },
  {
   "cell_type": "markdown",
   "id": "f70c7910",
   "metadata": {},
   "source": [
    "## Project Overview\n",
    "\n",
    "**The goal of this project** was to test three hypotheses:\n",
    "1. User activity depends on the day of the week, with variations between Moscow and St. Petersburg.\n",
    "1. Different music genres prevail in Moscow and St. Petersburg during Monday mornings and Friday evenings.\n",
    "1. Moscow and St. Petersburg exhibit distinct music genre preferences, with Moscow favoring pop music and St. Petersburg favoring Russian rap.\n",
    "\n",
    "**The research objectives** were as follows:\n",
    "\n",
    "1. To check the initial data for errors and assess their impact on the study.\n",
    "1. To determine the feasibility of correcting the most critical data errors.\n",
    "1. To verify the proposed hypotheses.\n",
    "\n",
    "**The data set used for this analysis** was taken from the file `yandex_music_project.csv`, which contains the following data regarding user behavior on the Yandex Music platform:\n",
    "\n",
    "- `userID` — user identifier;\n",
    "- `Track` — track name;\n",
    "- `artist` — artist's name;\n",
    "- `genre` — genre name;\n",
    "- `City` — user's city;\n",
    "- `time` — start time of listening;\n",
    "- `Day` — day of the week.\n",
    "\n",
    "**Skills and tools used:** `Python`, `pandas`, `.groupby()`,  `.pivot_table()`."
   ]
  },
  {
   "cell_type": "markdown",
   "id": "2576bde0",
   "metadata": {},
   "source": [
    "[Top of this section](#Project-Overview) | [Project Contents](#Table-of-Contents)"
   ]
  },
  {
   "cell_type": "markdown",
   "id": "572e7a5e",
   "metadata": {},
   "source": [
    "## Project Summary\n",
    "\n",
    "- Out of the three investigated hypotheses, the first one was fully confirmed, while the second and third were partially supported.\n",
    "\n",
    "\n",
    "- The obtained results indicate that there is more in common than differences in the preferences of Moscow and St. Petersburg users. If there are differences in preferences, they are generally subtle and not noticeable among the majority of users.\n",
    "\n",
    "\n",
    "- The significant share of missing values in the 'genre' field in the initial data casts doubt about the conclusions of the research regarding the second and third hypotheses.\n",
    "\n",
    "\n",
    "**Future Work**\n",
    "\n",
    "Data from a single service may not always be representative of an entire city's population. Gathering data from other streaming platforms and conducting hypothesis testing using statistical methods in the future will determine the reliability of these findings based on the available data."
   ]
  },
  {
   "cell_type": "markdown",
   "id": "106b1e3a",
   "metadata": {},
   "source": [
    "[Top of this section](#Project-Summary) | [Project Contents](#Table-of-Contents)"
   ]
  },
  {
   "cell_type": "markdown",
   "id": "9891d192",
   "metadata": {},
   "source": [
    "## Outline\n",
    "\n",
    "1. **Reading the Data set**.\n",
    "    - Loading the `pandas` library and the dataset from the `yandex_music_project.csv` file.\n",
    "    - Initial data examination using the `head()` and `info()` methods.\n",
    "</br></br>\n",
    "2. **Data Preparation: Cleaning and Formatting**.\n",
    "    - Formatting column names with `df.columns` and `rename()` methods.\n",
    "    - Handling explicit duplicates with `drop_duplicates()`.\n",
    "    - Identifying and replacing implicit duplicates with `sort_values()`, `unique()`, and a custom function, `replace_wrong_genres(wrong_genres, correct_genre)`.\n",
    "</br></br>\n",
    "3. **Hypothesis Testing**\n",
    "    - Conducting investigations to achieve project goals.\n",
    "</br></br>\n",
    "4. **Research Findings**\n",
    "    - Summarizing key findings concisely."
   ]
  },
  {
   "cell_type": "markdown",
   "id": "7bdd957f",
   "metadata": {},
   "source": [
    "[Top of this section](#Outline) | [Project Contents](#Table-of-Contents)"
   ]
  },
  {
   "cell_type": "markdown",
   "id": "6af6fc01",
   "metadata": {},
   "source": [
    "## Reading the Data set"
   ]
  },
  {
   "cell_type": "code",
   "execution_count": 1,
   "id": "5aa3129e",
   "metadata": {
    "scrolled": true
   },
   "outputs": [
    {
     "data": {
      "text/html": [
       "<div>\n",
       "<style scoped>\n",
       "    .dataframe tbody tr th:only-of-type {\n",
       "        vertical-align: middle;\n",
       "    }\n",
       "\n",
       "    .dataframe tbody tr th {\n",
       "        vertical-align: top;\n",
       "    }\n",
       "\n",
       "    .dataframe thead th {\n",
       "        text-align: right;\n",
       "    }\n",
       "</style>\n",
       "<table border=\"1\" class=\"dataframe\">\n",
       "  <thead>\n",
       "    <tr style=\"text-align: right;\">\n",
       "      <th></th>\n",
       "      <th>userID</th>\n",
       "      <th>Track</th>\n",
       "      <th>artist</th>\n",
       "      <th>genre</th>\n",
       "      <th>City</th>\n",
       "      <th>time</th>\n",
       "      <th>Day</th>\n",
       "    </tr>\n",
       "  </thead>\n",
       "  <tbody>\n",
       "    <tr>\n",
       "      <th>0</th>\n",
       "      <td>FFB692EC</td>\n",
       "      <td>Kamigata To Boots</td>\n",
       "      <td>The Mass Missile</td>\n",
       "      <td>rock</td>\n",
       "      <td>Saint-Petersburg</td>\n",
       "      <td>20:28:33</td>\n",
       "      <td>Wednesday</td>\n",
       "    </tr>\n",
       "    <tr>\n",
       "      <th>1</th>\n",
       "      <td>55204538</td>\n",
       "      <td>Delayed Because of Accident</td>\n",
       "      <td>Andreas Rönnberg</td>\n",
       "      <td>rock</td>\n",
       "      <td>Moscow</td>\n",
       "      <td>14:07:09</td>\n",
       "      <td>Friday</td>\n",
       "    </tr>\n",
       "    <tr>\n",
       "      <th>2</th>\n",
       "      <td>20EC38</td>\n",
       "      <td>Funiculì funiculà</td>\n",
       "      <td>Mario Lanza</td>\n",
       "      <td>pop</td>\n",
       "      <td>Saint-Petersburg</td>\n",
       "      <td>20:58:07</td>\n",
       "      <td>Wednesday</td>\n",
       "    </tr>\n",
       "    <tr>\n",
       "      <th>3</th>\n",
       "      <td>A3DD03C9</td>\n",
       "      <td>Dragons in the Sunset</td>\n",
       "      <td>Fire + Ice</td>\n",
       "      <td>folk</td>\n",
       "      <td>Saint-Petersburg</td>\n",
       "      <td>08:37:09</td>\n",
       "      <td>Monday</td>\n",
       "    </tr>\n",
       "    <tr>\n",
       "      <th>4</th>\n",
       "      <td>E2DC1FAE</td>\n",
       "      <td>Soul People</td>\n",
       "      <td>Space Echo</td>\n",
       "      <td>dance</td>\n",
       "      <td>Moscow</td>\n",
       "      <td>08:34:34</td>\n",
       "      <td>Monday</td>\n",
       "    </tr>\n",
       "    <tr>\n",
       "      <th>5</th>\n",
       "      <td>842029A1</td>\n",
       "      <td>Преданная</td>\n",
       "      <td>IMPERVTOR</td>\n",
       "      <td>rusrap</td>\n",
       "      <td>Saint-Petersburg</td>\n",
       "      <td>13:09:41</td>\n",
       "      <td>Friday</td>\n",
       "    </tr>\n",
       "    <tr>\n",
       "      <th>6</th>\n",
       "      <td>4CB90AA5</td>\n",
       "      <td>True</td>\n",
       "      <td>Roman Messer</td>\n",
       "      <td>dance</td>\n",
       "      <td>Moscow</td>\n",
       "      <td>13:00:07</td>\n",
       "      <td>Wednesday</td>\n",
       "    </tr>\n",
       "    <tr>\n",
       "      <th>7</th>\n",
       "      <td>F03E1C1F</td>\n",
       "      <td>Feeling This Way</td>\n",
       "      <td>Polina Griffith</td>\n",
       "      <td>dance</td>\n",
       "      <td>Moscow</td>\n",
       "      <td>20:47:49</td>\n",
       "      <td>Wednesday</td>\n",
       "    </tr>\n",
       "    <tr>\n",
       "      <th>8</th>\n",
       "      <td>8FA1D3BE</td>\n",
       "      <td>И вновь продолжается бой</td>\n",
       "      <td>NaN</td>\n",
       "      <td>ruspop</td>\n",
       "      <td>Moscow</td>\n",
       "      <td>09:17:40</td>\n",
       "      <td>Friday</td>\n",
       "    </tr>\n",
       "    <tr>\n",
       "      <th>9</th>\n",
       "      <td>E772D5C0</td>\n",
       "      <td>Pessimist</td>\n",
       "      <td>NaN</td>\n",
       "      <td>dance</td>\n",
       "      <td>Saint-Petersburg</td>\n",
       "      <td>21:20:49</td>\n",
       "      <td>Wednesday</td>\n",
       "    </tr>\n",
       "  </tbody>\n",
       "</table>\n",
       "</div>"
      ],
      "text/plain": [
       "     userID                        Track            artist   genre  \\\n",
       "0  FFB692EC            Kamigata To Boots  The Mass Missile    rock   \n",
       "1  55204538  Delayed Because of Accident  Andreas Rönnberg    rock   \n",
       "2    20EC38            Funiculì funiculà       Mario Lanza     pop   \n",
       "3  A3DD03C9        Dragons in the Sunset        Fire + Ice    folk   \n",
       "4  E2DC1FAE                  Soul People        Space Echo   dance   \n",
       "5  842029A1                    Преданная         IMPERVTOR  rusrap   \n",
       "6  4CB90AA5                         True      Roman Messer   dance   \n",
       "7  F03E1C1F             Feeling This Way   Polina Griffith   dance   \n",
       "8  8FA1D3BE     И вновь продолжается бой               NaN  ruspop   \n",
       "9  E772D5C0                    Pessimist               NaN   dance   \n",
       "\n",
       "             City        time        Day  \n",
       "0  Saint-Petersburg  20:28:33  Wednesday  \n",
       "1            Moscow  14:07:09     Friday  \n",
       "2  Saint-Petersburg  20:58:07  Wednesday  \n",
       "3  Saint-Petersburg  08:37:09     Monday  \n",
       "4            Moscow  08:34:34     Monday  \n",
       "5  Saint-Petersburg  13:09:41     Friday  \n",
       "6            Moscow  13:00:07  Wednesday  \n",
       "7            Moscow  20:47:49  Wednesday  \n",
       "8            Moscow  09:17:40     Friday  \n",
       "9  Saint-Petersburg  21:20:49  Wednesday  "
      ]
     },
     "execution_count": 1,
     "metadata": {},
     "output_type": "execute_result"
    }
   ],
   "source": [
    "# Import the pandas library as 'pd'\n",
    "import pandas as pd\n",
    "\n",
    "# Read the CSV file into the 'df' DataFrame\n",
    "df = pd.read_csv('datasets/yandex_music_project.csv')\n",
    "\n",
    "# Display the first 10 rows of 'df'\n",
    "df.head(10)"
   ]
  },
  {
   "cell_type": "code",
   "execution_count": 2,
   "id": "92b9a576",
   "metadata": {
    "scrolled": false
   },
   "outputs": [
    {
     "name": "stdout",
     "output_type": "stream",
     "text": [
      "<class 'pandas.core.frame.DataFrame'>\n",
      "RangeIndex: 65079 entries, 0 to 65078\n",
      "Data columns (total 7 columns):\n",
      " #   Column    Non-Null Count  Dtype \n",
      "---  ------    --------------  ----- \n",
      " 0     userID  65079 non-null  object\n",
      " 1   Track     63848 non-null  object\n",
      " 2   artist    57876 non-null  object\n",
      " 3   genre     63881 non-null  object\n",
      " 4     City    65079 non-null  object\n",
      " 5   time      65079 non-null  object\n",
      " 6   Day       65079 non-null  object\n",
      "dtypes: object(7)\n",
      "memory usage: 3.5+ MB\n"
     ]
    }
   ],
   "source": [
    "# Display 'df' DataFrame info.\n",
    "df.info()"
   ]
  },
  {
   "cell_type": "code",
   "execution_count": 3,
   "id": "41d849b5",
   "metadata": {},
   "outputs": [
    {
     "data": {
      "text/plain": [
       "  userID       0\n",
       "Track       1231\n",
       "artist      7203\n",
       "genre       1198\n",
       "  City         0\n",
       "time           0\n",
       "Day            0\n",
       "dtype: int64"
      ]
     },
     "execution_count": 3,
     "metadata": {},
     "output_type": "execute_result"
    }
   ],
   "source": [
    "# Count missing values in each column.\n",
    "df.isna().sum()"
   ]
  },
  {
   "cell_type": "markdown",
   "id": "9dbdacc0",
   "metadata": {},
   "source": [
    "**Dataset Exploration Summary**\n",
    "\n",
    "- The dataset contains a total of 65,079 records. This volume of data is sufficient for hypothesis testing.\n",
    "\n",
    "\n",
    "- The table consists of seven columns, all of which have the `object` data type.\n",
    "\n",
    "\n",
    "- Column names have style inconsistencies:\n",
    "    1. A mix of lowercase and uppercase letters.\n",
    "    1. Spaces in column names\n",
    "    1. Column names lack clarity in describing their content.\n",
    "</br></br>\n",
    "- There are missing values in the dataset."
   ]
  },
  {
   "cell_type": "markdown",
   "id": "b069aaa6",
   "metadata": {},
   "source": [
    "[Top of this section](#Reading-the-Data-set) | [Project Contents](#Table-of-Contents)"
   ]
  },
  {
   "cell_type": "markdown",
   "id": "73cd1bae",
   "metadata": {},
   "source": [
    "## Data Preparation: Cleaning and Formatting"
   ]
  },
  {
   "cell_type": "code",
   "execution_count": 4,
   "id": "d58fc733",
   "metadata": {},
   "outputs": [
    {
     "data": {
      "text/plain": [
       "Index(['user_id', 'track', 'artist', 'genre', 'city', 'time', 'day'], dtype='object')"
      ]
     },
     "execution_count": 4,
     "metadata": {},
     "output_type": "execute_result"
    }
   ],
   "source": [
    "# 1. Rename columns to improve style and clarity.\n",
    "df = df.rename(columns={'  userID': 'user_id', 'Track': 'track', '  City  ': 'city', 'Day': 'day'})\n",
    "df.columns"
   ]
  },
  {
   "cell_type": "code",
   "execution_count": 5,
   "id": "f94093ea",
   "metadata": {},
   "outputs": [
    {
     "data": {
      "text/plain": [
       "user_id    0\n",
       "track      0\n",
       "artist     0\n",
       "genre      0\n",
       "city       0\n",
       "time       0\n",
       "day        0\n",
       "dtype: int64"
      ]
     },
     "execution_count": 5,
     "metadata": {},
     "output_type": "execute_result"
    }
   ],
   "source": [
    "# 2. Replace missing values in specified columns with 'unknown'.\n",
    "columns_to_replace = ['track', 'artist', 'genre']\n",
    "\n",
    "for column in columns_to_replace:\n",
    "    df[column] = df[column].fillna('unknown')\n",
    "\n",
    "df.isna().sum()"
   ]
  },
  {
   "cell_type": "code",
   "execution_count": 6,
   "id": "c150e012",
   "metadata": {},
   "outputs": [
    {
     "data": {
      "text/plain": [
       "3826"
      ]
     },
     "execution_count": 6,
     "metadata": {},
     "output_type": "execute_result"
    }
   ],
   "source": [
    "# 3. Count the number of duplicate rows in the DataFrame 'df'.\n",
    "df.duplicated().sum()"
   ]
  },
  {
   "cell_type": "code",
   "execution_count": 7,
   "id": "d127c99e",
   "metadata": {},
   "outputs": [
    {
     "data": {
      "text/plain": [
       "0"
      ]
     },
     "execution_count": 7,
     "metadata": {},
     "output_type": "execute_result"
    }
   ],
   "source": [
    "# 4. Remove duplicate rows from the DataFrame 'df' and reset the index.\n",
    "df = df.drop_duplicates().reset_index(drop=True)\n",
    "\n",
    "df.duplicated().sum()"
   ]
  },
  {
   "cell_type": "code",
   "execution_count": 8,
   "id": "439cc14e",
   "metadata": {
    "scrolled": true
   },
   "outputs": [
    {
     "data": {
      "text/plain": [
       "array(['acid', 'acoustic', 'action', 'adult', 'africa', 'afrikaans',\n",
       "       'alternative', 'alternativepunk', 'ambient', 'americana',\n",
       "       'animated', 'anime', 'arabesk', 'arabic', 'arena',\n",
       "       'argentinetango', 'art', 'audiobook', 'author', 'avantgarde',\n",
       "       'axé', 'baile', 'balkan', 'beats', 'bigroom', 'black', 'bluegrass',\n",
       "       'blues', 'bollywood', 'bossa', 'brazilian', 'breakbeat', 'breaks',\n",
       "       'broadway', 'cantautori', 'cantopop', 'canzone', 'caribbean',\n",
       "       'caucasian', 'celtic', 'chamber', 'chanson', 'children', 'chill',\n",
       "       'chinese', 'choral', 'christian', 'christmas', 'classical',\n",
       "       'classicmetal', 'club', 'colombian', 'comedy', 'conjazz',\n",
       "       'contemporary', 'country', 'cuban', 'dance', 'dancehall',\n",
       "       'dancepop', 'dark', 'death', 'deep', 'deutschrock', 'deutschspr',\n",
       "       'dirty', 'disco', 'dnb', 'documentary', 'downbeat', 'downtempo',\n",
       "       'drum', 'dub', 'dubstep', 'eastern', 'easy', 'electronic',\n",
       "       'electropop', 'emo', 'entehno', 'epicmetal', 'estrada', 'ethnic',\n",
       "       'eurofolk', 'european', 'experimental', 'extrememetal', 'fado',\n",
       "       'fairytail', 'film', 'fitness', 'flamenco', 'folk', 'folklore',\n",
       "       'folkmetal', 'folkrock', 'folktronica', 'forró', 'frankreich',\n",
       "       'französisch', 'french', 'funk', 'future', 'gangsta', 'garage',\n",
       "       'german', 'ghazal', 'gitarre', 'glitch', 'gospel', 'gothic',\n",
       "       'grime', 'grunge', 'gypsy', 'handsup', \"hard'n'heavy\", 'hardcore',\n",
       "       'hardstyle', 'hardtechno', 'hip', 'hip-hop', 'hiphop',\n",
       "       'historisch', 'holiday', 'hop', 'horror', 'house', 'hymn', 'idm',\n",
       "       'independent', 'indian', 'indie', 'indipop', 'industrial',\n",
       "       'inspirational', 'instrumental', 'international', 'irish', 'jam',\n",
       "       'japanese', 'jazz', 'jewish', 'jpop', 'jungle', 'k-pop',\n",
       "       'karadeniz', 'karaoke', 'kayokyoku', 'korean', 'laiko', 'latin',\n",
       "       'latino', 'leftfield', 'local', 'lounge', 'loungeelectronic',\n",
       "       'lovers', 'malaysian', 'mandopop', 'marschmusik', 'meditative',\n",
       "       'mediterranean', 'melodic', 'metal', 'metalcore', 'mexican',\n",
       "       'middle', 'minimal', 'miscellaneous', 'modern', 'mood', 'mpb',\n",
       "       'muslim', 'native', 'neoklassik', 'neue', 'new', 'newage',\n",
       "       'newwave', 'nu', 'nujazz', 'numetal', 'oceania', 'old', 'opera',\n",
       "       'orchestral', 'other', 'piano', 'podcasts', 'pop', 'popdance',\n",
       "       'popelectronic', 'popeurodance', 'poprussian', 'post',\n",
       "       'posthardcore', 'postrock', 'power', 'progmetal', 'progressive',\n",
       "       'psychedelic', 'punjabi', 'punk', 'quebecois', 'ragga', 'ram',\n",
       "       'rancheras', 'rap', 'rave', 'reggae', 'reggaeton', 'regional',\n",
       "       'relax', 'religious', 'retro', 'rhythm', 'rnb', 'rnr', 'rock',\n",
       "       'rockabilly', 'rockalternative', 'rockindie', 'rockother',\n",
       "       'romance', 'roots', 'ruspop', 'rusrap', 'rusrock', 'russian',\n",
       "       'salsa', 'samba', 'scenic', 'schlager', 'self', 'sertanejo',\n",
       "       'shanson', 'shoegazing', 'showtunes', 'singer', 'ska', 'skarock',\n",
       "       'slow', 'smooth', 'soft', 'soul', 'soulful', 'sound', 'soundtrack',\n",
       "       'southern', 'specialty', 'speech', 'spiritual', 'sport',\n",
       "       'stonerrock', 'surf', 'swing', 'synthpop', 'synthrock',\n",
       "       'sängerportrait', 'tango', 'tanzorchester', 'taraftar', 'tatar',\n",
       "       'tech', 'techno', 'teen', 'thrash', 'top', 'traditional',\n",
       "       'tradjazz', 'trance', 'tribal', 'trip', 'triphop', 'tropical',\n",
       "       'türk', 'türkçe', 'ukrrock', 'unknown', 'urban', 'uzbek',\n",
       "       'variété', 'vi', 'videogame', 'vocal', 'western', 'world',\n",
       "       'worldbeat', 'ïîï', 'электроника'], dtype=object)"
      ]
     },
     "execution_count": 8,
     "metadata": {},
     "output_type": "execute_result"
    }
   ],
   "source": [
    "# 5. Identify and replace implicit duplicates\n",
    "\n",
    "# To identify implicit duplicates retrieve unique values in the 'genre' column, sorted in ascending order.\n",
    "df['genre'].sort_values().unique()"
   ]
  },
  {
   "cell_type": "markdown",
   "id": "3b4d304f",
   "metadata": {},
   "source": [
    "Implicit duplicates found:\n",
    "- *hip*, *hop*, *hip-hop*.\n",
    "- *ïîï* — the genre \"pop\" in the WINDOWS-1251 encoding (this was determined using [that universal decoder](https://2cyr.com/decode/?lang=ru))\n",
    "- *электроника* — is the genre \"electronic\" in the Russian language.\n",
    "\n",
    "To replace implicit duplicates, we will create a function `replace_wrong_genres()` with two parameters:\n",
    "- `wrong_genres`: a list of duplicates;\n",
    "- `correct_genre`: a string with the correct value.\n",
    "\n",
    "The function should correct the `genre` column in the `df` by replacing each value from the `wrong_genres` list with the value from `correct_genre`."
   ]
  },
  {
   "cell_type": "code",
   "execution_count": 9,
   "id": "44e690f2",
   "metadata": {},
   "outputs": [
    {
     "data": {
      "text/plain": [
       "array(['acid', 'acoustic', 'action', 'adult', 'africa', 'afrikaans',\n",
       "       'alternative', 'alternativepunk', 'ambient', 'americana',\n",
       "       'animated', 'anime', 'arabesk', 'arabic', 'arena',\n",
       "       'argentinetango', 'art', 'audiobook', 'author', 'avantgarde',\n",
       "       'axé', 'baile', 'balkan', 'beats', 'bigroom', 'black', 'bluegrass',\n",
       "       'blues', 'bollywood', 'bossa', 'brazilian', 'breakbeat', 'breaks',\n",
       "       'broadway', 'cantautori', 'cantopop', 'canzone', 'caribbean',\n",
       "       'caucasian', 'celtic', 'chamber', 'chanson', 'children', 'chill',\n",
       "       'chinese', 'choral', 'christian', 'christmas', 'classical',\n",
       "       'classicmetal', 'club', 'colombian', 'comedy', 'conjazz',\n",
       "       'contemporary', 'country', 'cuban', 'dance', 'dancehall',\n",
       "       'dancepop', 'dark', 'death', 'deep', 'deutschrock', 'deutschspr',\n",
       "       'dirty', 'disco', 'dnb', 'documentary', 'downbeat', 'downtempo',\n",
       "       'drum', 'dub', 'dubstep', 'eastern', 'easy', 'electronic',\n",
       "       'electropop', 'emo', 'entehno', 'epicmetal', 'estrada', 'ethnic',\n",
       "       'eurofolk', 'european', 'experimental', 'extrememetal', 'fado',\n",
       "       'fairytail', 'film', 'fitness', 'flamenco', 'folk', 'folklore',\n",
       "       'folkmetal', 'folkrock', 'folktronica', 'forró', 'frankreich',\n",
       "       'französisch', 'french', 'funk', 'future', 'gangsta', 'garage',\n",
       "       'german', 'ghazal', 'gitarre', 'glitch', 'gospel', 'gothic',\n",
       "       'grime', 'grunge', 'gypsy', 'handsup', \"hard'n'heavy\", 'hardcore',\n",
       "       'hardstyle', 'hardtechno', 'hiphop', 'historisch', 'holiday',\n",
       "       'horror', 'house', 'hymn', 'idm', 'independent', 'indian', 'indie',\n",
       "       'indipop', 'industrial', 'inspirational', 'instrumental',\n",
       "       'international', 'irish', 'jam', 'japanese', 'jazz', 'jewish',\n",
       "       'jpop', 'jungle', 'k-pop', 'karadeniz', 'karaoke', 'kayokyoku',\n",
       "       'korean', 'laiko', 'latin', 'latino', 'leftfield', 'local',\n",
       "       'lounge', 'loungeelectronic', 'lovers', 'malaysian', 'mandopop',\n",
       "       'marschmusik', 'meditative', 'mediterranean', 'melodic', 'metal',\n",
       "       'metalcore', 'mexican', 'middle', 'minimal', 'miscellaneous',\n",
       "       'modern', 'mood', 'mpb', 'muslim', 'native', 'neoklassik', 'neue',\n",
       "       'new', 'newage', 'newwave', 'nu', 'nujazz', 'numetal', 'oceania',\n",
       "       'old', 'opera', 'orchestral', 'other', 'piano', 'podcasts', 'pop',\n",
       "       'popdance', 'popelectronic', 'popeurodance', 'poprussian', 'post',\n",
       "       'posthardcore', 'postrock', 'power', 'progmetal', 'progressive',\n",
       "       'psychedelic', 'punjabi', 'punk', 'quebecois', 'ragga', 'ram',\n",
       "       'rancheras', 'rap', 'rave', 'reggae', 'reggaeton', 'regional',\n",
       "       'relax', 'religious', 'retro', 'rhythm', 'rnb', 'rnr', 'rock',\n",
       "       'rockabilly', 'rockalternative', 'rockindie', 'rockother',\n",
       "       'romance', 'roots', 'ruspop', 'rusrap', 'rusrock', 'russian',\n",
       "       'salsa', 'samba', 'scenic', 'schlager', 'self', 'sertanejo',\n",
       "       'shanson', 'shoegazing', 'showtunes', 'singer', 'ska', 'skarock',\n",
       "       'slow', 'smooth', 'soft', 'soul', 'soulful', 'sound', 'soundtrack',\n",
       "       'southern', 'specialty', 'speech', 'spiritual', 'sport',\n",
       "       'stonerrock', 'surf', 'swing', 'synthpop', 'synthrock',\n",
       "       'sängerportrait', 'tango', 'tanzorchester', 'taraftar', 'tatar',\n",
       "       'tech', 'techno', 'teen', 'thrash', 'top', 'traditional',\n",
       "       'tradjazz', 'trance', 'tribal', 'trip', 'triphop', 'tropical',\n",
       "       'türk', 'türkçe', 'ukrrock', 'unknown', 'urban', 'uzbek',\n",
       "       'variété', 'vi', 'videogame', 'vocal', 'western', 'world',\n",
       "       'worldbeat'], dtype=object)"
      ]
     },
     "execution_count": 9,
     "metadata": {},
     "output_type": "execute_result"
    }
   ],
   "source": [
    "# Function for replacing implicit duplicates\n",
    "def replace_wrong_genres (wrong_genres, correct_genre):\n",
    "    for wrong_genre in wrong_genres:\n",
    "        df['genre'] = df['genre'].replace(wrong_genre, correct_genre)\n",
    "        \n",
    "# Dictionary of implicit duplicates\n",
    "genres_to_replace = {\n",
    "    'hiphop' : ['hip', 'hop', 'hip-hop'],\n",
    "    'pop' : ['ïîï'],\n",
    "    'electronic' : ['электроника']\n",
    "}\n",
    "\n",
    "# Loop for replacing implicit duplicates\n",
    "for correct_value in genres_to_replace:\n",
    "    replace_wrong_genres(genres_to_replace[correct_value], correct_value)\n",
    "    \n",
    "# Check implicit duplicates replacement\n",
    "df['genre'].sort_values().unique()"
   ]
  },
  {
   "cell_type": "markdown",
   "id": "56ecf5f6",
   "metadata": {},
   "source": [
    "**Data Preparation Summary**\n",
    "- Adjusted column headers to snake_case.\n",
    "- Filled missing values with 'unknown'.\n",
    "- Removed complete duplicates.\n",
    "- Addressed implicit duplicates."
   ]
  },
  {
   "cell_type": "markdown",
   "id": "d5dbb68e",
   "metadata": {},
   "source": [
    "[Top of this section](#Data-Preparation:-Cleaning-and-Formatting) | [Project Contents](#Table-of-Contents)"
   ]
  },
  {
   "cell_type": "markdown",
   "id": "1f4cdcab",
   "metadata": {},
   "source": [
    "## Hypothesis testing"
   ]
  },
  {
   "cell_type": "markdown",
   "id": "dc6963f8",
   "metadata": {},
   "source": [
    "### Hypothesis 1\n",
    "User activity depends on the day of the week, with variations between Moscow and St. Petersburg."
   ]
  },
  {
   "cell_type": "code",
   "execution_count": 10,
   "id": "fd393a10",
   "metadata": {
    "scrolled": true
   },
   "outputs": [
    {
     "data": {
      "text/html": [
       "<div>\n",
       "<style scoped>\n",
       "    .dataframe tbody tr th:only-of-type {\n",
       "        vertical-align: middle;\n",
       "    }\n",
       "\n",
       "    .dataframe tbody tr th {\n",
       "        vertical-align: top;\n",
       "    }\n",
       "\n",
       "    .dataframe thead th {\n",
       "        text-align: right;\n",
       "    }\n",
       "</style>\n",
       "<table border=\"1\" class=\"dataframe\">\n",
       "  <thead>\n",
       "    <tr style=\"text-align: right;\">\n",
       "      <th></th>\n",
       "      <th>city</th>\n",
       "      <th>Monday</th>\n",
       "      <th>Wednesday</th>\n",
       "      <th>Friday</th>\n",
       "      <th>Total</th>\n",
       "    </tr>\n",
       "  </thead>\n",
       "  <tbody>\n",
       "    <tr>\n",
       "      <th>0</th>\n",
       "      <td>Moscow</td>\n",
       "      <td>15740</td>\n",
       "      <td>11056</td>\n",
       "      <td>15945</td>\n",
       "      <td>42741</td>\n",
       "    </tr>\n",
       "    <tr>\n",
       "      <th>1</th>\n",
       "      <td>Saint-Petersburg</td>\n",
       "      <td>5614</td>\n",
       "      <td>7003</td>\n",
       "      <td>5895</td>\n",
       "      <td>18512</td>\n",
       "    </tr>\n",
       "    <tr>\n",
       "      <th>2</th>\n",
       "      <td>Total</td>\n",
       "      <td>21354</td>\n",
       "      <td>18059</td>\n",
       "      <td>21840</td>\n",
       "      <td>61253</td>\n",
       "    </tr>\n",
       "  </tbody>\n",
       "</table>\n",
       "</div>"
      ],
      "text/plain": [
       "               city  Monday  Wednesday  Friday  Total\n",
       "0            Moscow   15740      11056   15945  42741\n",
       "1  Saint-Petersburg    5614       7003    5895  18512\n",
       "2             Total   21354      18059   21840  61253"
      ]
     },
     "execution_count": 10,
     "metadata": {},
     "output_type": "execute_result"
    }
   ],
   "source": [
    "# Create a pivot table to analyze user activity by city and day.\n",
    "pivot_table = df.pivot_table(index=['city'],\n",
    "                             columns='day',\n",
    "                             values='user_id',\n",
    "                             aggfunc='count',\n",
    "                             fill_value=0,\n",
    "                             margins=True,\n",
    "                             margins_name='Total')\n",
    "\n",
    "# Clean column names in the pivot table.\n",
    "pivot_table.columns = [''.join(str(s).strip() for s in col if s) for col in pivot_table.columns]\n",
    "\n",
    "# Reset the index of the pivot table\n",
    "pivot_table.reset_index(inplace=True)\n",
    "\n",
    "# Select specific columns in the pivot table for analysis.\n",
    "pivot_table = pivot_table[['city', 'Monday', 'Wednesday', 'Friday', 'Total']]\n",
    "\n",
    "# Display the modified pivot table.\n",
    "pivot_table"
   ]
  },
  {
   "cell_type": "markdown",
   "id": "ed850677",
   "metadata": {},
   "source": [
    "**Conclusions**\n",
    "- In Moscow, the peak of listens falls on Monday and Friday, while there is a noticeable decline on Wednesday.\n",
    "- In St. Petersburg, on the contrary, there is more music listening on Wednesdays. Activity on Monday and Friday is almost equally lower compared to Wednesday.\n",
    "\n",
    "✅ The first hypothesis has been confirmed"
   ]
  },
  {
   "cell_type": "markdown",
   "id": "b5402a99",
   "metadata": {},
   "source": [
    "[Top of this section](#Hypothesis-1) | [Project Contents](#Table-of-Contents)"
   ]
  },
  {
   "cell_type": "markdown",
   "id": "d07ab371",
   "metadata": {},
   "source": [
    "### Hypothesis 2\n",
    "\n",
    "Different music genres prevail in Moscow and St. Petersburg during Monday mornings and Friday evenings."
   ]
  },
  {
   "cell_type": "code",
   "execution_count": 11,
   "id": "942f1348",
   "metadata": {},
   "outputs": [
    {
     "name": "stdout",
     "output_type": "stream",
     "text": [
      "Город: Saint-Petersburg День: Monday Время: 07:00 - 11:00\n",
      "genre\n",
      "pop            218\n",
      "dance          182\n",
      "rock           162\n",
      "electronic     147\n",
      "hiphop          80\n",
      "ruspop          64\n",
      "alternative     58\n",
      "rusrap          55\n",
      "jazz            44\n",
      "classical       40\n",
      "Name: user_id, dtype: int64\n",
      "\n",
      "\n",
      "Город: Moscow День: Monday Время: 07:00 - 11:00\n",
      "genre\n",
      "pop            781\n",
      "dance          549\n",
      "electronic     480\n",
      "rock           474\n",
      "hiphop         286\n",
      "ruspop         186\n",
      "world          181\n",
      "rusrap         175\n",
      "alternative    164\n",
      "unknown        161\n",
      "Name: user_id, dtype: int64\n",
      "\n",
      "\n",
      "Город: Saint-Petersburg День: Friday Время: 17:00 - 23:00\n",
      "genre\n",
      "pop            256\n",
      "electronic     216\n",
      "rock           216\n",
      "dance          210\n",
      "hiphop          97\n",
      "alternative     63\n",
      "jazz            61\n",
      "classical       60\n",
      "rusrap          59\n",
      "world           54\n",
      "Name: user_id, dtype: int64\n",
      "\n",
      "\n",
      "Город: Moscow День: Friday Время: 17:00 - 23:00\n",
      "genre\n",
      "pop            713\n",
      "rock           517\n",
      "dance          495\n",
      "electronic     482\n",
      "hiphop         273\n",
      "world          208\n",
      "ruspop         170\n",
      "alternative    163\n",
      "classical      163\n",
      "rusrap         142\n",
      "Name: user_id, dtype: int64\n",
      "\n",
      "\n"
     ]
    }
   ],
   "source": [
    "# 1. Splitting the dataset into two samples:\n",
    "# `moscow_general` — data for Moscow, and\n",
    "# `spb_general` — data for St. Petersburg.\n",
    "\n",
    "moscow_general = df[df['city'] == 'Moscow']\n",
    "spb_general = df[df['city'] == 'Saint-Petersburg']\n",
    "\n",
    "# 2. Function that will generate a top-10 ranking of track genres\n",
    "# listened to on a specified day within a given time interval.\n",
    "def genre_weekday(table, day, time1, time2):\n",
    "    genre_df = table[table['day'] == day]\n",
    "    genre_df = genre_df[genre_df['time'] > time1]\n",
    "    genre_df = genre_df[genre_df['time'] < time2]\n",
    "    genre_df_count = genre_df.groupby('genre')['user_id'].count()\n",
    "    genre_df_sorted = genre_df_count.sort_values(ascending=False)\n",
    "    return genre_df_sorted.head(10)\n",
    "\n",
    "# 3. Defining days of the week and time intervals for analysis. \n",
    "dt_interval = [('Monday', '07:00', '11:00'), ('Friday', '17:00', '23:00')]\n",
    "\n",
    "# 4. Loop for ranking of track genres\n",
    "for day_time in dt_interval:\n",
    "    day, start, end = day_time\n",
    "    for city_df in [spb_general, moscow_general]:\n",
    "        print('Город: {} День: {} Время: {} - {}'.format(city_df['city'].unique()[0], day, start, end))\n",
    "        print(genre_weekday(city_df, day, start, end))\n",
    "        print('\\n')"
   ]
  },
  {
   "cell_type": "markdown",
   "id": "df942d5f",
   "metadata": {},
   "source": [
    "**Conclusions**\n",
    "- Musical preferences in Moscow and St. Petersburg exhibit minimal differences: Moscow includes the \"world\" genre in its ranking, while St. Petersburg features \"jazz\" and \"classical music.\"\n",
    "- The high prevalence of missing values in Moscow data elevates 'unknown' to the tenth position among the most popular genres, raising concerns about data credibility.\n",
    "- Friday evening does not significantly alter this pattern; the top 10 genres largely remain consistent.\n",
    "\n",
    "🟨 The second hypothesis has been partially confirmed."
   ]
  },
  {
   "cell_type": "markdown",
   "id": "27162bac",
   "metadata": {},
   "source": [
    "[Top of this section](#Hypothesis-2) | [Project Contents](#Table-of-Contents)"
   ]
  },
  {
   "cell_type": "markdown",
   "id": "3662a767",
   "metadata": {},
   "source": [
    "### Hypothesis 3\n",
    "Moscow and St. Petersburg exhibit distinct music genre preferences, with Moscow favoring pop music and St. Petersburg favoring Russian rap."
   ]
  },
  {
   "cell_type": "code",
   "execution_count": 12,
   "id": "74fe7f84",
   "metadata": {},
   "outputs": [
    {
     "data": {
      "text/plain": [
       "genre\n",
       "pop            5893\n",
       "dance          4435\n",
       "rock           3965\n",
       "electronic     3786\n",
       "hiphop         2096\n",
       "classical      1616\n",
       "world          1432\n",
       "alternative    1379\n",
       "ruspop         1372\n",
       "rusrap         1161\n",
       "Name: genre, dtype: int64"
      ]
     },
     "execution_count": 12,
     "metadata": {},
     "output_type": "execute_result"
    }
   ],
   "source": [
    "# Grouping Moscow's data by track genres in descending order of listening counts.\n",
    "moscow_genres = moscow_general.groupby('genre')['genre'].count().sort_values(ascending=False)\n",
    "\n",
    "# Displaying the top 10 genres in Moscow.\n",
    "moscow_genres.head(10)"
   ]
  },
  {
   "cell_type": "code",
   "execution_count": 13,
   "id": "9ee2f9e6",
   "metadata": {},
   "outputs": [
    {
     "data": {
      "text/plain": [
       "genre\n",
       "pop            2431\n",
       "dance          1932\n",
       "rock           1879\n",
       "electronic     1737\n",
       "hiphop          960\n",
       "alternative     649\n",
       "classical       646\n",
       "rusrap          564\n",
       "ruspop          538\n",
       "world           515\n",
       "Name: genre, dtype: int64"
      ]
     },
     "execution_count": 13,
     "metadata": {},
     "output_type": "execute_result"
    }
   ],
   "source": [
    "# Grouping St. Petersburg's data by track genres in descending order of listening counts.\n",
    "spb_genres = spb_general.groupby('genre')['genre'].count().sort_values(ascending=False)\n",
    "\n",
    "# Displaying the top 10 genres in St. Petersburg.\n",
    "spb_genres.head(10)"
   ]
  },
  {
   "cell_type": "markdown",
   "id": "4bbe9bf9",
   "metadata": {},
   "source": [
    "**Conclusions**\n",
    "- Pop music reigns as the most popular genre in Moscow, as hypothesized. Additionally, Russian pop music features prominently within the top 10 genres.\n",
    "- Contrary to expectations, rap enjoys equal popularity in both Moscow and St. Petersburg.\n",
    "\n",
    "🟨 The third hypothesis has been partially confirmed."
   ]
  },
  {
   "cell_type": "markdown",
   "id": "739e1f34",
   "metadata": {},
   "source": [
    "[Top of this section](#Hypothesis-3) | [Project Contents](#Table-of-Contents)"
   ]
  },
  {
   "cell_type": "markdown",
   "id": "6005fd20",
   "metadata": {},
   "source": [
    "## Research Findings\n",
    "\n",
    "We examined three hypotheses and established the following:\n",
    "\n",
    "1. The day of the week has varying effects on user activity in Moscow and St. Petersburg, fully confirming the first hypothesis.\n",
    "\n",
    "\n",
    "2. Musical preferences remain relatively stable throughout the week, whether in Moscow or St. Petersburg. Minor differences emerge at the beginning of the week, on Mondays:\n",
    "   - Moscow leans toward the \"world\" music genre.\n",
    "   - St. Petersburg prefers jazz and classical music.\n",
    "</br></br>\n",
    "   Therefore, the second hypothesis was only partially confirmed. This result could have been different if not for data gaps.\n",
    "\n",
    "\n",
    "3. The musical tastes of Moscow and St. Petersburg users exhibit more similarities than differences. Surprisingly, genre preferences in St. Petersburg resemble those in Moscow. The third hypothesis was not confirmed, suggesting that any existing differences in preferences are imperceptible to the majority of users.\n",
    "\n",
    "These findings provide insights into the dynamics of user behavior and music preferences in the two cities, highlighting both similarities and subtle distinctions."
   ]
  },
  {
   "cell_type": "markdown",
   "id": "c3981d34",
   "metadata": {},
   "source": [
    "[Top of this section](#Research-Findings) | [Project Contents](#Table-of-Contents)"
   ]
  },
  {
   "cell_type": "markdown",
   "id": "f52b699f",
   "metadata": {},
   "source": [
    "## Project Completion Checklist\n",
    "\n",
    "**Step 1. Data Loading and Initial Exploration**\n",
    "   - [x] Source data file opened\n",
    "   - [x] File examined (first rows displayed, `info()` method used)\n",
    "   - [x] Decision made regarding the need for data preprocessing\n",
    "\n",
    "</br></br>\n",
    "**Step 2. Data Preprocessing**\n",
    "   - [x] Column headers standardized\n",
    "   - [x] Missing data identified and filled with placeholder values\n",
    "   - [x] Complete duplicates removed\n",
    "   - [x] Implicit duplicates addressed  \n",
    "\n",
    "</br></br>\n",
    "**Step 3. Hypothesis Testing**\n",
    "   - [x] First hypothesis tested\n",
    "   - [x] Second hypothesis tested\n",
    "   - [x] Third hypothesis tested\n",
    "   - [x] Overall conclusion drawn for the entire study\n",
    "\n",
    "</br></br>\n",
    "[Project Contents](#Table-of-Contents)"
   ]
  }
 ],
 "metadata": {
  "kernelspec": {
   "display_name": "Python 3 (ipykernel)",
   "language": "python",
   "name": "python3"
  },
  "language_info": {
   "codemirror_mode": {
    "name": "ipython",
    "version": 3
   },
   "file_extension": ".py",
   "mimetype": "text/x-python",
   "name": "python",
   "nbconvert_exporter": "python",
   "pygments_lexer": "ipython3",
   "version": "3.10.6"
  },
  "toc": {
   "base_numbering": 1,
   "nav_menu": {},
   "number_sections": true,
   "sideBar": true,
   "skip_h1_title": true,
   "title_cell": "Table of Contents",
   "title_sidebar": "Contents",
   "toc_cell": true,
   "toc_position": {
    "height": "calc(100% - 180px)",
    "left": "10px",
    "top": "150px",
    "width": "307.2px"
   },
   "toc_section_display": true,
   "toc_window_display": true
  }
 },
 "nbformat": 4,
 "nbformat_minor": 5
}
